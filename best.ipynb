{
 "cells": [
  {
   "cell_type": "code",
   "execution_count": 1,
   "metadata": {},
   "outputs": [
    {
     "name": "stderr",
     "output_type": "stream",
     "text": [
      "Using TensorFlow backend.\n"
     ]
    }
   ],
   "source": [
    "import numpy as np\n",
    "import pandas as pd\n",
    "import datetime\n",
    "from datetime import date\n",
    "from sklearn import preprocessing\n",
    "from sklearn.tree import DecisionTreeClassifier\n",
    "from sklearn.preprocessing import OneHotEncoder\n",
    "from sklearn.metrics import roc_curve\n",
    "from sklearn.pipeline import make_pipeline\n",
    "from sklearn.ensemble import RandomForestClassifier, GradientBoostingClassifier,ExtraTreesClassifier,AdaBoostClassifier\n",
    "from sklearn import metrics\n",
    "import pandas as pd\n",
    "from sklearn.cluster import KMeans\n",
    "from sklearn.neural_network import MLPClassifier\n",
    "from keras.models import Sequential\n",
    "from keras.layers import Dense,Dropout\n",
    "from keras.models import load_model\n",
    "from keras.callbacks import EarlyStopping\n",
    "from keras.utils import to_categorical\n",
    "from six.moves import cPickle as pickle"
   ]
  },
  {
   "cell_type": "code",
   "execution_count": 2,
   "metadata": {},
   "outputs": [
    {
     "name": "stderr",
     "output_type": "stream",
     "text": [
      "/usr/local/lib/python2.7/dist-packages/IPython/core/interactiveshell.py:2717: DtypeWarning: Columns (8,9,10,11) have mixed types. Specify dtype option on import or set low_memory=False.\n",
      "  interactivity=interactivity, compiler=compiler, result=result)\n"
     ]
    }
   ],
   "source": [
    "data=pd.read_csv('train.csv')\n",
    "test=pd.read_csv(\"test.csv\")\n",
    "datadiff=pd.read_csv(\"extradata.csv\")\n",
    "testdiff=pd.read_csv(\"extratest.csv\")\n",
    "extra = pd.read_csv(\"extra_infos.csv\")"
   ]
  },
  {
   "cell_type": "code",
   "execution_count": 3,
   "metadata": {
    "collapsed": true
   },
   "outputs": [],
   "source": [
    "data=pd.concat([data,datadiff.iloc[:,1:3]],axis=1)\n",
    "test=pd.concat([test,testdiff.iloc[:,1:3]],axis=1)"
   ]
  },
  {
   "cell_type": "code",
   "execution_count": 4,
   "metadata": {},
   "outputs": [
    {
     "name": "stderr",
     "output_type": "stream",
     "text": [
      "/usr/local/lib/python2.7/dist-packages/ipykernel_launcher.py:9: DeprecationWarning: \n",
      ".ix is deprecated. Please use\n",
      ".loc for label based indexing or\n",
      ".iloc for positional indexing\n",
      "\n",
      "See the documentation here:\n",
      "http://pandas.pydata.org/pandas-docs/stable/indexing.html#deprecate_ix\n",
      "  if __name__ == '__main__':\n",
      "/usr/local/lib/python2.7/dist-packages/ipykernel_launcher.py:13: DeprecationWarning: \n",
      ".ix is deprecated. Please use\n",
      ".loc for label based indexing or\n",
      ".iloc for positional indexing\n",
      "\n",
      "See the documentation here:\n",
      "http://pandas.pydata.org/pandas-docs/stable/indexing.html#deprecate_ix\n",
      "  del sys.path[0]\n"
     ]
    }
   ],
   "source": [
    "import random\n",
    "kt=data[data.listen_type==1]\n",
    "kt1=data[data.listen_type==0]\n",
    "kt.reset_index(drop=True, inplace=True)\n",
    "kt1.reset_index(drop=True, inplace=True)\n",
    "kt=kt.sort_values(['release_date'], ascending=[False])\n",
    "kt.reset_index(drop=True, inplace=True)\n",
    "rows = np.random.choice(kt[0:800000].index.values, 100000)\n",
    "sampled_df = kt.ix[rows]\n",
    "kt = kt.drop(kt.index[rows])\n",
    "kt.reset_index(drop=True, inplace=True)\n",
    "rows = np.random.choice(kt[0:800000].index.values, 100000)\n",
    "sampled_df1 = kt.ix[rows]\n",
    "kt = kt.drop(rows)\n",
    "kt.reset_index(drop=True, inplace=True)\n",
    "data.reset_index(drop=True, inplace=True)\n",
    "sampled_df.reset_index(drop=True, inplace=True)\n",
    "sampled_df1.reset_index(drop=True, inplace=True)\n",
    "data=pd.concat([kt,kt1,sampled_df,sampled_df1],axis=0)\n",
    "data.reset_index(drop=True, inplace=True)\n",
    "data= data.sample(frac=1).reset_index(drop=True)\n",
    "data.shape\n",
    "del kt\n",
    "del kt1\n",
    "del sampled_df1\n",
    "del sampled_df"
   ]
  },
  {
   "cell_type": "code",
   "execution_count": 5,
   "metadata": {
    "collapsed": true
   },
   "outputs": [],
   "source": [
    "df43 = pd.DataFrame(data, columns = ['genre_id', 'is_listened'])\n",
    "df45 = pd.DataFrame(data, columns = ['media_id', 'is_listened'])\n",
    "df46=  pd.DataFrame(data, columns = ['album_id', 'is_listened'])\n",
    "df47=  pd.DataFrame(data, columns = ['artist_id', 'is_listened'])\n",
    "df51=  pd.DataFrame(data, columns = ['user_id', 'is_listened'])\n",
    "df53=  pd.DataFrame(data, columns = ['release_date', 'is_listened'])\n",
    "df55=  pd.DataFrame(data, columns = ['time1', 'is_listened'])"
   ]
  },
  {
   "cell_type": "code",
   "execution_count": 6,
   "metadata": {
    "collapsed": true
   },
   "outputs": [],
   "source": [
    "#TO create fractional features. First groupby ids and then calculate mean of is listened for every level of id\n",
    "#and then map it on data using dictionary creation\n",
    "count1=df43.groupby(['genre_id'],as_index=False).agg({'is_listened':'mean'})\n",
    "df44=pd.Series(count1.is_listened.values,index=count1.genre_id).to_dict()\n",
    "data[\"B\"] = data[\"genre_id\"].map(df44)\n",
    "test[\"B\"] = test[\"genre_id\"].map(df44)\n",
    "\n",
    "\n",
    "count2=df45.groupby(['media_id'],as_index=False).agg({'is_listened':'mean'})\n",
    "df48=pd.Series(count2.is_listened.values,index=count2.media_id).to_dict()\n",
    "data[\"C\"] = data[\"media_id\"].map(df48)\n",
    "test[\"C\"] = test[\"media_id\"].map(df48)\n",
    "\n",
    "count3=df46.groupby(['album_id'],as_index=False).agg({'is_listened':'mean'})\n",
    "df49=pd.Series(count3.is_listened.values,index=count3.album_id).to_dict()\n",
    "data[\"D\"] = data[\"album_id\"].map(df49)\n",
    "test[\"D\"] = test[\"album_id\"].map(df49)\n",
    "data.head()\n",
    "count4=df47.groupby(['artist_id'],as_index=False).agg({'is_listened':'mean'})\n",
    "df50=pd.Series(count4.is_listened.values,index=count4.artist_id).to_dict()\n",
    "data[\"E\"] = data[\"artist_id\"].map(df50)\n",
    "test[\"E\"] = test[\"artist_id\"].map(df50)\n",
    "\n",
    "count5=df51.groupby(['user_id'],as_index=False).agg({'is_listened':'mean'})\n",
    "df52=pd.Series(count5.is_listened.values,index=count5.user_id).to_dict()\n",
    "data[\"F\"] = data[\"user_id\"].map(df52)\n",
    "test[\"F\"] = test[\"user_id\"].map(df52)\n",
    "\n",
    "count6=df53.groupby(['release_date'],as_index=False).agg({'is_listened':'mean'})\n",
    "df54=pd.Series(count6.is_listened.values,index=count6.release_date).to_dict()\n",
    "data[\"G\"] = data[\"release_date\"].map(df54)\n",
    "test[\"G\"] = test[\"release_date\"].map(df54)\n",
    "\n",
    "count6=df53.groupby(['release_date'],as_index=False).agg({'is_listened':'mean'})\n",
    "df54=pd.Series(count6.is_listened.values,index=count6.release_date).to_dict()\n",
    "data[\"G\"] = data[\"release_date\"].map(df54)\n",
    "test[\"G\"] = test[\"release_date\"].map(df54)\n",
    "\n",
    "count7=df55.groupby(['time1'],as_index=False).agg({'is_listened':'mean'})\n",
    "df56=pd.Series(count7.is_listened.values,index=count7.time1).to_dict()\n",
    "data[\"H\"] = data[\"time1\"].map(df56)\n",
    "test[\"H\"] = test[\"time1\"].map(df56)"
   ]
  },
  {
   "cell_type": "code",
   "execution_count": 7,
   "metadata": {
    "collapsed": true
   },
   "outputs": [],
   "source": [
    "del count1\n",
    "del count2\n",
    "del count3\n",
    "del count4\n",
    "del count5\n",
    "del count6\n",
    "del df43\n",
    "del df44\n",
    "del df45\n",
    "del df46\n",
    "del df47\n",
    "del df48\n",
    "del df49\n",
    "del df50\n",
    "del df51\n",
    "del df52"
   ]
  },
  {
   "cell_type": "code",
   "execution_count": 8,
   "metadata": {},
   "outputs": [
    {
     "name": "stdout",
     "output_type": "stream",
     "text": [
      "0:06:23.112421\n"
     ]
    },
    {
     "name": "stderr",
     "output_type": "stream",
     "text": [
      "/usr/local/lib/python2.7/dist-packages/pandas/core/indexing.py:179: SettingWithCopyWarning: \n",
      "A value is trying to be set on a copy of a slice from a DataFrame\n",
      "\n",
      "See the caveats in the documentation: http://pandas.pydata.org/pandas-docs/stable/indexing.html#indexing-view-versus-copy\n",
      "  self._setitem_with_indexer(indexer, value)\n"
     ]
    },
    {
     "name": "stdout",
     "output_type": "stream",
     "text": [
      "0:02:33.610588\n",
      "0:03:03.267682\n",
      "0:01:14.600236\n",
      "0:00:07.617969\n"
     ]
    }
   ],
   "source": [
    "#pivot table for clustering of similar users. Till now only used genre id for cluster\n",
    "#print(datetime.datetime.now()-start_time)\n",
    "start_time = datetime.datetime.now()\n",
    "matrix = data.pivot_table(index=['user_id'], columns=['genre_id'], values='is_listened')\n",
    "from sklearn.cluster import KMeans\n",
    "cluster = KMeans(n_clusters=50)\n",
    "matrix=matrix.fillna(0)\n",
    "x_cols = matrix.columns[1:]\n",
    "#the below line is server specific and is used to predict cluster of users and then we have mapped users on clusters\n",
    "matrix['cluster'] = cluster.fit_predict(matrix[matrix.columns[1:]])\n",
    "#matrix1=pd.concat([matrix.iloc[:,0],matrix['cluster']],axis=1)\n",
    "matrix1=pd.concat([pd.DataFrame(matrix.index.values),matrix['cluster']],axis=1)\n",
    "matrix1.columns=['user_id','cluster']\n",
    "mat2=pd.Series(matrix1.cluster.values,index=matrix1.user_id.values).to_dict()\n",
    "data[\"usergencluster\"] = data[\"user_id\"].map(mat2)\n",
    "test[\"usergencluster\"]=test[\"user_id\"].map(mat2)\n",
    "print(datetime.datetime.now()-start_time)\n",
    "start_time = datetime.datetime.now()\n",
    "\n",
    "data['album_id_1']=data['album_id']\n",
    "test['album_id_1']=test['album_id']\n",
    "mmo3=pd.DataFrame(data['album_id_1'].value_counts())\n",
    "mmo3=pd.concat([pd.DataFrame(mmo3.index.values),pd.DataFrame(mmo3.album_id_1.values)],axis=1)\n",
    "mmo31=list(mmo3.iloc[1500:,0])\n",
    "data['album_id_1'].loc[data['album_id_1'].isin(mmo31)]=-1\n",
    "matrix = data.pivot_table(index=['user_id'], columns=['album_id_1'], values='is_listened')\n",
    "cluster = KMeans(n_clusters=40)\n",
    "matrix=matrix.fillna(0)\n",
    "#the below line is server specific and is used to predict cluster of users and then we have mapped users on clusters\n",
    "matrix['cluster'] = cluster.fit_predict(matrix[matrix.columns[1:]])\n",
    "#matrix1=pd.concat([matrix.iloc[:,0],matrix['cluster']],axis=1)\n",
    "matrix1=pd.concat([pd.DataFrame(matrix.index.values),matrix['cluster']],axis=1)\n",
    "matrix1.columns=['user_id','cluster']\n",
    "mat2=pd.Series(matrix1.cluster.values,index=matrix1.user_id.values).to_dict()\n",
    "data[\"useralbcluster\"] = data[\"user_id\"].map(mat2)\n",
    "test[\"useralbcluster\"]=test[\"user_id\"].map(mat2)\n",
    "print(datetime.datetime.now()-start_time)\n",
    "start_time = datetime.datetime.now()\n",
    "\n",
    "data['artist_id_1']=data['artist_id']\n",
    "test['artist_id_1']=test['artist_id']\n",
    "mmo3=pd.DataFrame(data['artist_id_1'].value_counts())\n",
    "mmo3=pd.concat([pd.DataFrame(mmo3.index.values),pd.DataFrame(mmo3.artist_id_1.values)],axis=1)\n",
    "mmo31=list(mmo3.iloc[1700:,0])\n",
    "data['artist_id_1'].loc[data['artist_id_1'].isin(mmo31)]=-1\n",
    "matrix = data.pivot_table(index=['user_id'], columns=['artist_id_1'], values='is_listened')\n",
    "cluster = KMeans(n_clusters=50)\n",
    "matrix=matrix.fillna(0)\n",
    "#the below line is server specific and is used to predict cluster of users and then we have mapped users on clusters\n",
    "matrix['cluster'] = cluster.fit_predict(matrix[matrix.columns[1:]])\n",
    "#matrix1=pd.concat([matrix.iloc[:,0],matrix['cluster']],axis=1)\n",
    "matrix1=pd.concat([pd.DataFrame(matrix.index.values),matrix['cluster']],axis=1)\n",
    "matrix1.columns=['user_id','cluster']\n",
    "mat2=pd.Series(matrix1.cluster.values,index=matrix1.user_id.values).to_dict()\n",
    "data[\"userartcluster\"] = data[\"user_id\"].map(mat2)\n",
    "test[\"userartcluster\"]=test[\"user_id\"].map(mat2)\n",
    "print(datetime.datetime.now()-start_time)\n",
    "start_time = datetime.datetime.now()\n",
    "\n",
    "matrix=0\n",
    "data['release_date_1']=data['release_date']\n",
    "test['release_date_1']=test['release_date']\n",
    "mmo3=pd.DataFrame(data['release_date_1'].value_counts())\n",
    "mmo3=pd.concat([pd.DataFrame(mmo3.index.values),pd.DataFrame(mmo3.release_date_1.values)],axis=1)\n",
    "mmo31=list(mmo3.iloc[1000:,0])\n",
    "data['release_date_1'].loc[data['release_date_1'].isin(mmo31)]=-1\n",
    "matrix = data.pivot_table(index=['user_id'], columns=['release_date_1'], values='is_listened')\n",
    "cluster = KMeans(n_clusters=10)\n",
    "matrix=matrix.fillna(0)\n",
    "#the below line is server specific and is used to predict cluster of users and then we have mapped users on clusters\n",
    "matrix['cluster'] = cluster.fit_predict(matrix[matrix.columns[1:]])\n",
    "#matrix1=pd.concat([matrix.iloc[:,0],matrix['cluster']],axis=1)\n",
    "matrix1=pd.concat([pd.DataFrame(matrix.index.values),matrix['cluster']],axis=1)\n",
    "matrix1.columns=['user_id','cluster']\n",
    "mat2=pd.Series(matrix1.cluster.values,index=matrix1.user_id.values).to_dict()\n",
    "data[\"userdatecluster\"] = data[\"user_id\"].map(mat2)\n",
    "test[\"userdatecluster\"]=test[\"user_id\"].map(mat2)\n",
    "print(datetime.datetime.now()-start_time)\n",
    "start_time = datetime.datetime.now()\n",
    "\n",
    "matrix=0\n",
    "data['time1_1']=data['time1']\n",
    "test['time1_1']=test['time1']\n",
    "mmo3=pd.DataFrame(data['time1_1'].value_counts())\n",
    "mmo3=pd.concat([pd.DataFrame(mmo3.index.values),pd.DataFrame(mmo3.time1_1.values)],axis=1)\n",
    "mmo31=list(mmo3.iloc[:,0])\n",
    "#data['time1_1'].loc[data['time1_1'].isin(mmo31)]=-1\n",
    "matrix = data.pivot_table(index=['user_id'], columns=['time1_1'], values='is_listened')\n",
    "cluster = KMeans(n_clusters=4)\n",
    "matrix=matrix.fillna(0)\n",
    "#the below line is server specific and is used to predict cluster of users and then we have mapped users on clusters\n",
    "matrix['cluster'] = cluster.fit_predict(matrix[matrix.columns[1:]])\n",
    "#matrix1=pd.concat([matrix.iloc[:,0],matrix['cluster']],axis=1)\n",
    "matrix1=pd.concat([pd.DataFrame(matrix.index.values),matrix['cluster']],axis=1)\n",
    "matrix1.columns=['user_id','cluster']\n",
    "mat2=pd.Series(matrix1.cluster.values,index=matrix1.user_id.values).to_dict()\n",
    "data[\"usertimecluster\"] = data[\"user_id\"].map(mat2)\n",
    "test[\"usertimecluster\"]=test[\"user_id\"].map(mat2)\n",
    "print(datetime.datetime.now()-start_time)\n",
    "start_time = datetime.datetime.now()\n",
    "del matrix\n",
    "del matrix1\n",
    "del mat2"
   ]
  },
  {
   "cell_type": "code",
   "execution_count": 10,
   "metadata": {},
   "outputs": [
    {
     "data": {
      "text/plain": [
       "(7570895, 34)"
      ]
     },
     "execution_count": 10,
     "metadata": {},
     "output_type": "execute_result"
    }
   ],
   "source": [
    "data['med'] = data['media_id']\n",
    "test['med'] = test['media_id']\n",
    "data.shape"
   ]
  },
  {
   "cell_type": "code",
   "execution_count": 12,
   "metadata": {},
   "outputs": [
    {
     "data": {
      "text/html": [
       "<div>\n",
       "<style>\n",
       "    .dataframe thead tr:only-child th {\n",
       "        text-align: right;\n",
       "    }\n",
       "\n",
       "    .dataframe thead th {\n",
       "        text-align: left;\n",
       "    }\n",
       "\n",
       "    .dataframe tbody tr th {\n",
       "        vertical-align: top;\n",
       "    }\n",
       "</style>\n",
       "<table border=\"1\" class=\"dataframe\">\n",
       "  <thead>\n",
       "    <tr style=\"text-align: right;\">\n",
       "      <th></th>\n",
       "      <th>genre_id</th>\n",
       "      <th>ts_listen</th>\n",
       "      <th>media_id</th>\n",
       "      <th>album_id</th>\n",
       "      <th>context_type</th>\n",
       "      <th>release_date</th>\n",
       "      <th>platform_name</th>\n",
       "      <th>platform_family</th>\n",
       "      <th>media_duration</th>\n",
       "      <th>listen_type</th>\n",
       "      <th>...</th>\n",
       "      <th>usergencluster</th>\n",
       "      <th>album_id_1</th>\n",
       "      <th>useralbcluster</th>\n",
       "      <th>artist_id_1</th>\n",
       "      <th>userartcluster</th>\n",
       "      <th>release_date_1</th>\n",
       "      <th>userdatecluster</th>\n",
       "      <th>time1_1</th>\n",
       "      <th>usertimecluster</th>\n",
       "      <th>med</th>\n",
       "    </tr>\n",
       "  </thead>\n",
       "  <tbody>\n",
       "    <tr>\n",
       "      <th>0</th>\n",
       "      <td>2</td>\n",
       "      <td>1479661767</td>\n",
       "      <td>16392025</td>\n",
       "      <td>1531010</td>\n",
       "      <td>0</td>\n",
       "      <td>20120130</td>\n",
       "      <td>0</td>\n",
       "      <td>0</td>\n",
       "      <td>181</td>\n",
       "      <td>0</td>\n",
       "      <td>...</td>\n",
       "      <td>43</td>\n",
       "      <td>-1</td>\n",
       "      <td>21</td>\n",
       "      <td>58801</td>\n",
       "      <td>43</td>\n",
       "      <td>20120130</td>\n",
       "      <td>8</td>\n",
       "      <td>17</td>\n",
       "      <td>3</td>\n",
       "      <td>16392025</td>\n",
       "    </tr>\n",
       "    <tr>\n",
       "      <th>1</th>\n",
       "      <td>0</td>\n",
       "      <td>1478557511</td>\n",
       "      <td>121275010</td>\n",
       "      <td>12670134</td>\n",
       "      <td>4</td>\n",
       "      <td>20160325</td>\n",
       "      <td>0</td>\n",
       "      <td>0</td>\n",
       "      <td>176</td>\n",
       "      <td>1</td>\n",
       "      <td>...</td>\n",
       "      <td>42</td>\n",
       "      <td>-1</td>\n",
       "      <td>19</td>\n",
       "      <td>1590752</td>\n",
       "      <td>47</td>\n",
       "      <td>20160325</td>\n",
       "      <td>2</td>\n",
       "      <td>22</td>\n",
       "      <td>0</td>\n",
       "      <td>121275010</td>\n",
       "    </tr>\n",
       "    <tr>\n",
       "      <th>2</th>\n",
       "      <td>0</td>\n",
       "      <td>1478396473</td>\n",
       "      <td>132911084</td>\n",
       "      <td>14137030</td>\n",
       "      <td>3</td>\n",
       "      <td>20160927</td>\n",
       "      <td>0</td>\n",
       "      <td>0</td>\n",
       "      <td>141</td>\n",
       "      <td>0</td>\n",
       "      <td>...</td>\n",
       "      <td>18</td>\n",
       "      <td>-1</td>\n",
       "      <td>18</td>\n",
       "      <td>1191615</td>\n",
       "      <td>48</td>\n",
       "      <td>20160927</td>\n",
       "      <td>2</td>\n",
       "      <td>1</td>\n",
       "      <td>0</td>\n",
       "      <td>132911084</td>\n",
       "    </tr>\n",
       "    <tr>\n",
       "      <th>3</th>\n",
       "      <td>25201</td>\n",
       "      <td>1478634042</td>\n",
       "      <td>12266946</td>\n",
       "      <td>1127221</td>\n",
       "      <td>0</td>\n",
       "      <td>20090223</td>\n",
       "      <td>1</td>\n",
       "      <td>0</td>\n",
       "      <td>295</td>\n",
       "      <td>0</td>\n",
       "      <td>...</td>\n",
       "      <td>27</td>\n",
       "      <td>-1</td>\n",
       "      <td>24</td>\n",
       "      <td>-1</td>\n",
       "      <td>10</td>\n",
       "      <td>-1</td>\n",
       "      <td>1</td>\n",
       "      <td>19</td>\n",
       "      <td>2</td>\n",
       "      <td>12266946</td>\n",
       "    </tr>\n",
       "    <tr>\n",
       "      <th>4</th>\n",
       "      <td>0</td>\n",
       "      <td>1478550725</td>\n",
       "      <td>122273422</td>\n",
       "      <td>12790880</td>\n",
       "      <td>0</td>\n",
       "      <td>20160429</td>\n",
       "      <td>0</td>\n",
       "      <td>0</td>\n",
       "      <td>216</td>\n",
       "      <td>0</td>\n",
       "      <td>...</td>\n",
       "      <td>43</td>\n",
       "      <td>12790880</td>\n",
       "      <td>18</td>\n",
       "      <td>6920971</td>\n",
       "      <td>5</td>\n",
       "      <td>20160429</td>\n",
       "      <td>2</td>\n",
       "      <td>20</td>\n",
       "      <td>2</td>\n",
       "      <td>122273422</td>\n",
       "    </tr>\n",
       "  </tbody>\n",
       "</table>\n",
       "<p>5 rows × 34 columns</p>\n",
       "</div>"
      ],
      "text/plain": [
       "   genre_id   ts_listen   media_id  album_id  context_type  release_date  \\\n",
       "0         2  1479661767   16392025   1531010             0      20120130   \n",
       "1         0  1478557511  121275010  12670134             4      20160325   \n",
       "2         0  1478396473  132911084  14137030             3      20160927   \n",
       "3     25201  1478634042   12266946   1127221             0      20090223   \n",
       "4         0  1478550725  122273422  12790880             0      20160429   \n",
       "\n",
       "   platform_name  platform_family  media_duration  listen_type    ...      \\\n",
       "0              0                0             181            0    ...       \n",
       "1              0                0             176            1    ...       \n",
       "2              0                0             141            0    ...       \n",
       "3              1                0             295            0    ...       \n",
       "4              0                0             216            0    ...       \n",
       "\n",
       "   usergencluster  album_id_1  useralbcluster  artist_id_1  userartcluster  \\\n",
       "0              43          -1              21        58801              43   \n",
       "1              42          -1              19      1590752              47   \n",
       "2              18          -1              18      1191615              48   \n",
       "3              27          -1              24           -1              10   \n",
       "4              43    12790880              18      6920971               5   \n",
       "\n",
       "   release_date_1  userdatecluster  time1_1  usertimecluster        med  \n",
       "0        20120130                8       17                3   16392025  \n",
       "1        20160325                2       22                0  121275010  \n",
       "2        20160927                2        1                0  132911084  \n",
       "3              -1                1       19                2   12266946  \n",
       "4        20160429                2       20                2  122273422  \n",
       "\n",
       "[5 rows x 34 columns]"
      ]
     },
     "execution_count": 12,
     "metadata": {},
     "output_type": "execute_result"
    }
   ],
   "source": [
    "data.head()"
   ]
  },
  {
   "cell_type": "code",
   "execution_count": 13,
   "metadata": {},
   "outputs": [
    {
     "name": "stdout",
     "output_type": "stream",
     "text": [
      "0:11:35.386803\n"
     ]
    }
   ],
   "source": [
    "data['media_id_1']=data['media_id']\n",
    "test['media_id_1']=test['media_id']\n",
    "mmo3=pd.DataFrame(data['media_id_1'].value_counts())\n",
    "mmo3=pd.concat([pd.DataFrame(mmo3.index.values),pd.DataFrame(mmo3.media_id_1.values)],axis=1)\n",
    "mmo31=list(mmo3.iloc[3000:,0])\n",
    "data['media_id_1'].loc[data['media_id_1'].isin(mmo31)]=-1\n",
    "matrix = data.pivot_table(index=['user_id'], columns=['media_id_1'], values='is_listened')\n",
    "cluster = KMeans(n_clusters=50)\n",
    "matrix=matrix.fillna(0)\n",
    "#the below line is server specific and is used to predict cluster of users and then we have mapped users on clusters\n",
    "matrix['cluster'] = cluster.fit_predict(matrix[matrix.columns[1:]])\n",
    "#matrix1=pd.concat([matrix.iloc[:,0],matrix['cluster']],axis=1)\n",
    "matrix1=pd.concat([pd.DataFrame(matrix.index.values),matrix['cluster']],axis=1)\n",
    "matrix1.columns=['user_id','cluster']\n",
    "mat2=pd.Series(matrix1.cluster.values,index=matrix1.user_id.values).to_dict()\n",
    "data[\"usermedcluster\"] = data[\"user_id\"].map(mat2)\n",
    "test[\"usermedcluster\"]=test[\"user_id\"].map(mat2)\n",
    "print(datetime.datetime.now()-start_time)\n",
    "start_time = datetime.datetime.now()"
   ]
  },
  {
   "cell_type": "code",
   "execution_count": 10,
   "metadata": {
    "collapsed": true
   },
   "outputs": [],
   "source": [
    "#from six.moves import cPickle as pickle\n",
    "#file_name = \"music.pickle\"\n",
    "#data.to_pickle(file_name)\n",
    "test.to_pickle(\"test.pickle\")"
   ]
  },
  {
   "cell_type": "code",
   "execution_count": 2,
   "metadata": {
    "collapsed": true
   },
   "outputs": [],
   "source": [
    "data = pd.read_pickle(\"music.pickle\")\n",
    "test = pd.read_pickle(\"test.pickle\")"
   ]
  },
  {
   "cell_type": "code",
   "execution_count": 4,
   "metadata": {},
   "outputs": [
    {
     "name": "stderr",
     "output_type": "stream",
     "text": [
      "/usr/local/lib/python2.7/dist-packages/IPython/core/interactiveshell.py:2717: DtypeWarning: Columns (8,9,10,11) have mixed types. Specify dtype option on import or set low_memory=False.\n",
      "  interactivity=interactivity, compiler=compiler, result=result)\n",
      "/usr/local/lib/python2.7/dist-packages/ipykernel_launcher.py:3: DeprecationWarning: \n",
      ".ix is deprecated. Please use\n",
      ".loc for label based indexing or\n",
      ".iloc for positional indexing\n",
      "\n",
      "See the documentation here:\n",
      "http://pandas.pydata.org/pandas-docs/stable/indexing.html#deprecate_ix\n",
      "  This is separate from the ipykernel package so we can avoid doing imports until\n"
     ]
    },
    {
     "data": {
      "text/html": [
       "<div>\n",
       "<style>\n",
       "    .dataframe thead tr:only-child th {\n",
       "        text-align: right;\n",
       "    }\n",
       "\n",
       "    .dataframe thead th {\n",
       "        text-align: left;\n",
       "    }\n",
       "\n",
       "    .dataframe tbody tr th {\n",
       "        vertical-align: top;\n",
       "    }\n",
       "</style>\n",
       "<table border=\"1\" class=\"dataframe\">\n",
       "  <thead>\n",
       "    <tr style=\"text-align: right;\">\n",
       "      <th></th>\n",
       "      <th>media_id</th>\n",
       "      <th>0</th>\n",
       "      <th>1</th>\n",
       "      <th>2</th>\n",
       "      <th>3</th>\n",
       "      <th>4</th>\n",
       "      <th>5</th>\n",
       "      <th>6</th>\n",
       "      <th>7</th>\n",
       "      <th>8</th>\n",
       "      <th>...</th>\n",
       "      <th>20</th>\n",
       "      <th>21</th>\n",
       "      <th>22</th>\n",
       "      <th>23</th>\n",
       "      <th>24</th>\n",
       "      <th>25</th>\n",
       "      <th>26</th>\n",
       "      <th>27</th>\n",
       "      <th>28</th>\n",
       "      <th>29</th>\n",
       "    </tr>\n",
       "  </thead>\n",
       "  <tbody>\n",
       "    <tr>\n",
       "      <th>0</th>\n",
       "      <td>213952</td>\n",
       "      <td>0</td>\n",
       "      <td>0</td>\n",
       "      <td>0</td>\n",
       "      <td>0</td>\n",
       "      <td>0</td>\n",
       "      <td>0</td>\n",
       "      <td>0</td>\n",
       "      <td>0</td>\n",
       "      <td>0</td>\n",
       "      <td>...</td>\n",
       "      <td>0</td>\n",
       "      <td>0</td>\n",
       "      <td>0</td>\n",
       "      <td>0</td>\n",
       "      <td>0</td>\n",
       "      <td>0</td>\n",
       "      <td>0</td>\n",
       "      <td>0</td>\n",
       "      <td>0</td>\n",
       "      <td>0</td>\n",
       "    </tr>\n",
       "    <tr>\n",
       "      <th>1</th>\n",
       "      <td>223014</td>\n",
       "      <td>0</td>\n",
       "      <td>0</td>\n",
       "      <td>0</td>\n",
       "      <td>0</td>\n",
       "      <td>0</td>\n",
       "      <td>0</td>\n",
       "      <td>0</td>\n",
       "      <td>0</td>\n",
       "      <td>0</td>\n",
       "      <td>...</td>\n",
       "      <td>0</td>\n",
       "      <td>0</td>\n",
       "      <td>0</td>\n",
       "      <td>0</td>\n",
       "      <td>0</td>\n",
       "      <td>0</td>\n",
       "      <td>0</td>\n",
       "      <td>0</td>\n",
       "      <td>0</td>\n",
       "      <td>0</td>\n",
       "    </tr>\n",
       "    <tr>\n",
       "      <th>2</th>\n",
       "      <td>237198</td>\n",
       "      <td>0</td>\n",
       "      <td>0</td>\n",
       "      <td>0</td>\n",
       "      <td>0</td>\n",
       "      <td>0</td>\n",
       "      <td>0</td>\n",
       "      <td>0</td>\n",
       "      <td>0</td>\n",
       "      <td>0</td>\n",
       "      <td>...</td>\n",
       "      <td>0</td>\n",
       "      <td>0</td>\n",
       "      <td>0</td>\n",
       "      <td>0</td>\n",
       "      <td>0</td>\n",
       "      <td>0</td>\n",
       "      <td>0</td>\n",
       "      <td>0</td>\n",
       "      <td>0</td>\n",
       "      <td>0</td>\n",
       "    </tr>\n",
       "    <tr>\n",
       "      <th>3</th>\n",
       "      <td>238380</td>\n",
       "      <td>0</td>\n",
       "      <td>0</td>\n",
       "      <td>0</td>\n",
       "      <td>1</td>\n",
       "      <td>0</td>\n",
       "      <td>0</td>\n",
       "      <td>0</td>\n",
       "      <td>0</td>\n",
       "      <td>0</td>\n",
       "      <td>...</td>\n",
       "      <td>0</td>\n",
       "      <td>0</td>\n",
       "      <td>0</td>\n",
       "      <td>0</td>\n",
       "      <td>0</td>\n",
       "      <td>0</td>\n",
       "      <td>0</td>\n",
       "      <td>0</td>\n",
       "      <td>0</td>\n",
       "      <td>0</td>\n",
       "    </tr>\n",
       "    <tr>\n",
       "      <th>4</th>\n",
       "      <td>244881</td>\n",
       "      <td>0</td>\n",
       "      <td>0</td>\n",
       "      <td>0</td>\n",
       "      <td>0</td>\n",
       "      <td>0</td>\n",
       "      <td>0</td>\n",
       "      <td>0</td>\n",
       "      <td>0</td>\n",
       "      <td>0</td>\n",
       "      <td>...</td>\n",
       "      <td>0</td>\n",
       "      <td>0</td>\n",
       "      <td>0</td>\n",
       "      <td>0</td>\n",
       "      <td>0</td>\n",
       "      <td>0</td>\n",
       "      <td>0</td>\n",
       "      <td>0</td>\n",
       "      <td>0</td>\n",
       "      <td>0</td>\n",
       "    </tr>\n",
       "  </tbody>\n",
       "</table>\n",
       "<p>5 rows × 31 columns</p>\n",
       "</div>"
      ],
      "text/plain": [
       "  media_id  0  1  2  3  4  5  6  7  8 ...  20  21  22  23  24  25  26  27  28  \\\n",
       "0   213952  0  0  0  0  0  0  0  0  0 ...   0   0   0   0   0   0   0   0   0   \n",
       "1   223014  0  0  0  0  0  0  0  0  0 ...   0   0   0   0   0   0   0   0   0   \n",
       "2   237198  0  0  0  0  0  0  0  0  0 ...   0   0   0   0   0   0   0   0   0   \n",
       "3   238380  0  0  0  1  0  0  0  0  0 ...   0   0   0   0   0   0   0   0   0   \n",
       "4   244881  0  0  0  0  0  0  0  0  0 ...   0   0   0   0   0   0   0   0   0   \n",
       "\n",
       "   29  \n",
       "0   0  \n",
       "1   0  \n",
       "2   0  \n",
       "3   0  \n",
       "4   0  \n",
       "\n",
       "[5 rows x 31 columns]"
      ]
     },
     "execution_count": 4,
     "metadata": {},
     "output_type": "execute_result"
    }
   ],
   "source": [
    "from scipy.sparse import csr_matrix\n",
    "extra = pd.read_csv(\"extra_infos.csv\")\n",
    "extra = extra.ix[: , 2:4] #Choosing only the media_id and sng_name variables\n",
    "from sklearn.feature_extraction.text import CountVectorizer\n",
    "tokens = '\\\\S+(?=\\\\s+)'   #Regex\n",
    "extra.sng_title.fillna('' , inplace = True)\n",
    "vec = CountVectorizer(token_pattern = tokens , max_features = 30)\n",
    "tf = vec.fit_transform(extra[\"sng_title\"])\n",
    "j = csr_matrix.todense(tf)\n",
    "j = pd.DataFrame(j , index = extra[\"media_id\"])  #this gives the final features \n",
    "j.reset_index(inplace=True)\n",
    "j.head()"
   ]
  },
  {
   "cell_type": "code",
   "execution_count": 42,
   "metadata": {},
   "outputs": [
    {
     "data": {
      "text/plain": [
       "(453310, 21)"
      ]
     },
     "execution_count": 42,
     "metadata": {},
     "output_type": "execute_result"
    }
   ],
   "source": [
    "j.shape"
   ]
  },
  {
   "cell_type": "code",
   "execution_count": 48,
   "metadata": {},
   "outputs": [
    {
     "data": {
      "text/html": [
       "<div>\n",
       "<style>\n",
       "    .dataframe thead tr:only-child th {\n",
       "        text-align: right;\n",
       "    }\n",
       "\n",
       "    .dataframe thead th {\n",
       "        text-align: left;\n",
       "    }\n",
       "\n",
       "    .dataframe tbody tr th {\n",
       "        vertical-align: top;\n",
       "    }\n",
       "</style>\n",
       "<table border=\"1\" class=\"dataframe\">\n",
       "  <thead>\n",
       "    <tr style=\"text-align: right;\">\n",
       "      <th></th>\n",
       "      <th>genre_id</th>\n",
       "      <th>ts_listen</th>\n",
       "      <th>media_id</th>\n",
       "      <th>album_id</th>\n",
       "      <th>context_type</th>\n",
       "      <th>release_date</th>\n",
       "      <th>platform_name</th>\n",
       "      <th>platform_family</th>\n",
       "      <th>media_duration</th>\n",
       "      <th>listen_type</th>\n",
       "      <th>...</th>\n",
       "      <th>media_id_135949700</th>\n",
       "      <th>media_id_135949706</th>\n",
       "      <th>media_id_135949708</th>\n",
       "      <th>media_id_135949710</th>\n",
       "      <th>media_id_136017244</th>\n",
       "      <th>media_id_136662032</th>\n",
       "      <th>usertimecluster_0</th>\n",
       "      <th>usertimecluster_1</th>\n",
       "      <th>usertimecluster_2</th>\n",
       "      <th>usertimecluster_3</th>\n",
       "    </tr>\n",
       "  </thead>\n",
       "  <tbody>\n",
       "    <tr>\n",
       "      <th>0</th>\n",
       "      <td>0</td>\n",
       "      <td>1478950200</td>\n",
       "      <td>-1</td>\n",
       "      <td>-1</td>\n",
       "      <td>0</td>\n",
       "      <td>-1</td>\n",
       "      <td>0</td>\n",
       "      <td>0</td>\n",
       "      <td>225</td>\n",
       "      <td>0</td>\n",
       "      <td>...</td>\n",
       "      <td>0</td>\n",
       "      <td>0</td>\n",
       "      <td>0</td>\n",
       "      <td>0</td>\n",
       "      <td>0</td>\n",
       "      <td>0</td>\n",
       "      <td>1</td>\n",
       "      <td>0</td>\n",
       "      <td>0</td>\n",
       "      <td>0</td>\n",
       "    </tr>\n",
       "    <tr>\n",
       "      <th>1</th>\n",
       "      <td>-1</td>\n",
       "      <td>1479865789</td>\n",
       "      <td>-1</td>\n",
       "      <td>-1</td>\n",
       "      <td>0</td>\n",
       "      <td>-1</td>\n",
       "      <td>0</td>\n",
       "      <td>0</td>\n",
       "      <td>255</td>\n",
       "      <td>0</td>\n",
       "      <td>...</td>\n",
       "      <td>0</td>\n",
       "      <td>0</td>\n",
       "      <td>0</td>\n",
       "      <td>0</td>\n",
       "      <td>0</td>\n",
       "      <td>0</td>\n",
       "      <td>0</td>\n",
       "      <td>0</td>\n",
       "      <td>1</td>\n",
       "      <td>0</td>\n",
       "    </tr>\n",
       "    <tr>\n",
       "      <th>2</th>\n",
       "      <td>0</td>\n",
       "      <td>1478156053</td>\n",
       "      <td>125890431</td>\n",
       "      <td>13246617</td>\n",
       "      <td>0</td>\n",
       "      <td>20160704</td>\n",
       "      <td>0</td>\n",
       "      <td>0</td>\n",
       "      <td>179</td>\n",
       "      <td>0</td>\n",
       "      <td>...</td>\n",
       "      <td>0</td>\n",
       "      <td>0</td>\n",
       "      <td>0</td>\n",
       "      <td>0</td>\n",
       "      <td>0</td>\n",
       "      <td>0</td>\n",
       "      <td>0</td>\n",
       "      <td>0</td>\n",
       "      <td>0</td>\n",
       "      <td>1</td>\n",
       "    </tr>\n",
       "    <tr>\n",
       "      <th>3</th>\n",
       "      <td>0</td>\n",
       "      <td>1480164382</td>\n",
       "      <td>-1</td>\n",
       "      <td>-1</td>\n",
       "      <td>2</td>\n",
       "      <td>-1</td>\n",
       "      <td>0</td>\n",
       "      <td>0</td>\n",
       "      <td>161</td>\n",
       "      <td>0</td>\n",
       "      <td>...</td>\n",
       "      <td>0</td>\n",
       "      <td>0</td>\n",
       "      <td>0</td>\n",
       "      <td>0</td>\n",
       "      <td>0</td>\n",
       "      <td>0</td>\n",
       "      <td>1</td>\n",
       "      <td>0</td>\n",
       "      <td>0</td>\n",
       "      <td>0</td>\n",
       "    </tr>\n",
       "    <tr>\n",
       "      <th>4</th>\n",
       "      <td>-1</td>\n",
       "      <td>1479291089</td>\n",
       "      <td>-1</td>\n",
       "      <td>-1</td>\n",
       "      <td>1</td>\n",
       "      <td>-1</td>\n",
       "      <td>2</td>\n",
       "      <td>1</td>\n",
       "      <td>180</td>\n",
       "      <td>1</td>\n",
       "      <td>...</td>\n",
       "      <td>0</td>\n",
       "      <td>0</td>\n",
       "      <td>0</td>\n",
       "      <td>0</td>\n",
       "      <td>0</td>\n",
       "      <td>0</td>\n",
       "      <td>0</td>\n",
       "      <td>0</td>\n",
       "      <td>1</td>\n",
       "      <td>0</td>\n",
       "    </tr>\n",
       "  </tbody>\n",
       "</table>\n",
       "<p>5 rows × 876 columns</p>\n",
       "</div>"
      ],
      "text/plain": [
       "   genre_id   ts_listen   media_id  album_id  context_type  release_date  \\\n",
       "0         0  1478950200         -1        -1             0            -1   \n",
       "1        -1  1479865789         -1        -1             0            -1   \n",
       "2         0  1478156053  125890431  13246617             0      20160704   \n",
       "3         0  1480164382         -1        -1             2            -1   \n",
       "4        -1  1479291089         -1        -1             1            -1   \n",
       "\n",
       "   platform_name  platform_family  media_duration  listen_type  \\\n",
       "0              0                0             225            0   \n",
       "1              0                0             255            0   \n",
       "2              0                0             179            0   \n",
       "3              0                0             161            0   \n",
       "4              2                1             180            1   \n",
       "\n",
       "         ...          media_id_135949700  media_id_135949706  \\\n",
       "0        ...                           0                   0   \n",
       "1        ...                           0                   0   \n",
       "2        ...                           0                   0   \n",
       "3        ...                           0                   0   \n",
       "4        ...                           0                   0   \n",
       "\n",
       "   media_id_135949708  media_id_135949710  media_id_136017244  \\\n",
       "0                   0                   0                   0   \n",
       "1                   0                   0                   0   \n",
       "2                   0                   0                   0   \n",
       "3                   0                   0                   0   \n",
       "4                   0                   0                   0   \n",
       "\n",
       "   media_id_136662032  usertimecluster_0  usertimecluster_1  \\\n",
       "0                   0                  1                  0   \n",
       "1                   0                  0                  0   \n",
       "2                   0                  0                  0   \n",
       "3                   0                  1                  0   \n",
       "4                   0                  0                  0   \n",
       "\n",
       "   usertimecluster_2  usertimecluster_3  \n",
       "0                  0                  0  \n",
       "1                  1                  0  \n",
       "2                  0                  1  \n",
       "3                  0                  0  \n",
       "4                  1                  0  \n",
       "\n",
       "[5 rows x 876 columns]"
      ]
     },
     "execution_count": 48,
     "metadata": {},
     "output_type": "execute_result"
    }
   ],
   "source": [
    "data.head()"
   ]
  },
  {
   "cell_type": "code",
   "execution_count": 33,
   "metadata": {
    "collapsed": true
   },
   "outputs": [],
   "source": [
    "data = pd.merge(data, j, how='left', on=['media_id'])\n",
    "test = pd.merge(test, j, how='left', on=['media_id'])"
   ]
  },
  {
   "cell_type": "code",
   "execution_count": 28,
   "metadata": {},
   "outputs": [
    {
     "data": {
      "text/plain": [
       "(7570688, 55)"
      ]
     },
     "execution_count": 28,
     "metadata": {},
     "output_type": "execute_result"
    }
   ],
   "source": [
    "#data1.columns.tolist()\n",
    "data.shape"
   ]
  },
  {
   "cell_type": "code",
   "execution_count": 34,
   "metadata": {
    "collapsed": true
   },
   "outputs": [],
   "source": [
    "mmo3=pd.DataFrame(data['media_id'].value_counts())\n",
    "mmo98=pd.DataFrame(test['media_id'].value_counts())\n",
    "unmatched = set(list(mmo98.index.values))-set(list(mmo3.index.values))\n",
    "test['media_id'].loc[test['media_id'].isin(list(unmatched)[65:])]=-2\n",
    "mmo3=pd.concat([pd.DataFrame(mmo3.index.values),pd.DataFrame(mmo3.media_id.values)],axis=1)\n",
    "df=pd.Series(mmo3.iloc[:,1].values,index=mmo3.iloc[:,0].values).to_dict()\n",
    "data[\"media_id_freq\"] = data[\"media_id\"].map(df)\n",
    "test[\"media_id_freq\"] = test[\"media_id\"].map(df)\n",
    "mmo31=list(mmo3.iloc[100:,0])\n",
    "data['media_id'].loc[data['media_id'].isin(mmo31)]=-1\n",
    "test['media_id'].loc[test['media_id'].isin(mmo31)]=-1\n",
    "\n",
    "\n",
    "mmo3=pd.DataFrame(data['album_id'].value_counts())\n",
    "mmo98=pd.DataFrame(test['album_id'].value_counts())\n",
    "unmatched = set(list(mmo98.index.values))-set(list(mmo3.index.values))\n",
    "test['album_id'].loc[test['album_id'].isin(list(unmatched)[65:])]=-2\n",
    "mmo3=pd.concat([pd.DataFrame(mmo3.index.values),pd.DataFrame(mmo3.album_id.values)],axis=1)\n",
    "df=pd.Series(mmo3.iloc[:,1].values,index=mmo3.iloc[:,0].values).to_dict()\n",
    "data[\"album_id_freq\"] = data[\"album_id\"].map(df)\n",
    "test[\"album_id_freq\"] = test[\"album_id\"].map(df)\n",
    "mmo31=list(mmo3.iloc[100:,0])\n",
    "data['album_id'].loc[data['album_id'].isin(mmo31)]=-1\n",
    "test['album_id'].loc[test['album_id'].isin(mmo31)]=-1\n",
    "\n",
    "mmo4=pd.DataFrame(data['artist_id'].value_counts())\n",
    "mmo98=pd.DataFrame(test['artist_id'].value_counts())\n",
    "unmatched = set(list(mmo98.index.values))-set(list(mmo4.index.values))\n",
    "test['artist_id'].loc[test['artist_id'].isin(list(unmatched)[40:])]=-2\n",
    "mmo4=pd.concat([pd.DataFrame(mmo4.index.values),pd.DataFrame(mmo4.artist_id.values)],axis=1)\n",
    "df=pd.Series(mmo4.iloc[:,1].values,index=mmo4.iloc[:,0].values).to_dict()\n",
    "data[\"artist_id_freq\"] = data[\"artist_id\"].map(df)\n",
    "test[\"artist_id_freq\"] = test[\"artist_id\"].map(df)\n",
    "mmo41=list(mmo4.iloc[100:,0])\n",
    "data['artist_id'].loc[data['artist_id'].isin(mmo41)]=-1\n",
    "test['artist_id'].loc[test['artist_id'].isin(mmo41)]=-1\n",
    "\n",
    "      \n",
    "mmo5=pd.DataFrame(data['genre_id'].value_counts())\n",
    "mmo98=pd.DataFrame(test['genre_id'].value_counts())\n",
    "#unmatched = set(list(mmo98.index.values))-set(list(mmo5.index.values))\n",
    "#test['genre_id'].loc[test['genre_id'].isin(unmatched)]=-2\n",
    "mmo5=pd.concat([pd.DataFrame(mmo5.index.values),pd.DataFrame(mmo5.genre_id.values)],axis=1)\n",
    "df=pd.Series(mmo5.iloc[:,1].values,index=mmo5.iloc[:,0].values).to_dict()\n",
    "data[\"genre_id_freq\"] = data[\"genre_id\"].map(df)\n",
    "test[\"genre_id_freq\"] = test[\"genre_id\"].map(df)\n",
    "mmo51=list(mmo5.iloc[50:,0])\n",
    "data['genre_id'].loc[data['genre_id'].isin(mmo51)]=-1\n",
    "test['genre_id'].loc[test['genre_id'].isin(mmo51)]=-1\n",
    "\n",
    "mmo6=pd.DataFrame(data['context_type'].value_counts())\n",
    "mmo6=pd.concat([pd.DataFrame(mmo6.index.values),pd.DataFrame(mmo6.context_type.values)],axis=1)\n",
    "mmo61=list(mmo6.iloc[25:,0])\n",
    "data['context_type'].loc[data['context_type'].isin(mmo61)]=-1\n",
    "test['context_type'].loc[test['context_type'].isin(mmo61)]=-1\n",
    "\n",
    "\n",
    "mmo7=pd.DataFrame(data['release_date'].value_counts())\n",
    "mmo98=pd.DataFrame(test['release_date'].value_counts())\n",
    "#unmatched = set(list(mmo98.index.values))-set(list(mmo7.index.values))\n",
    "#test['release_date'].loc[test['release_date'].isin(unmatched)]=-1\n",
    "mmo7=pd.concat([pd.DataFrame(mmo7.index.values),pd.DataFrame(mmo7.release_date.values)],axis=1)\n",
    "mmo71=list(mmo7.iloc[50:,0])\n",
    "data['release_date'].loc[data['release_date'].isin(mmo71)]=-1\n",
    "test['release_date'].loc[test['release_date'].isin(mmo71)]=-1"
   ]
  },
  {
   "cell_type": "code",
   "execution_count": 35,
   "metadata": {
    "collapsed": true
   },
   "outputs": [],
   "source": [
    "del mmo3\n",
    "del mmo31\n",
    "del mmo4\n",
    "del mmo5\n",
    "del mmo6\n",
    "del mmo7\n",
    "del mmo41\n",
    "del mmo51\n",
    "del mmo61\n",
    "del mmo71\n",
    "del mmo98"
   ]
  },
  {
   "cell_type": "code",
   "execution_count": 36,
   "metadata": {},
   "outputs": [
    {
     "data": {
      "text/html": [
       "<div>\n",
       "<style>\n",
       "    .dataframe thead tr:only-child th {\n",
       "        text-align: right;\n",
       "    }\n",
       "\n",
       "    .dataframe thead th {\n",
       "        text-align: left;\n",
       "    }\n",
       "\n",
       "    .dataframe tbody tr th {\n",
       "        vertical-align: top;\n",
       "    }\n",
       "</style>\n",
       "<table border=\"1\" class=\"dataframe\">\n",
       "  <thead>\n",
       "    <tr style=\"text-align: right;\">\n",
       "      <th></th>\n",
       "      <th>genre_id</th>\n",
       "      <th>ts_listen</th>\n",
       "      <th>media_id</th>\n",
       "      <th>album_id</th>\n",
       "      <th>context_type</th>\n",
       "      <th>release_date</th>\n",
       "      <th>platform_name</th>\n",
       "      <th>platform_family</th>\n",
       "      <th>media_duration</th>\n",
       "      <th>listen_type</th>\n",
       "      <th>...</th>\n",
       "      <th>14</th>\n",
       "      <th>15</th>\n",
       "      <th>16</th>\n",
       "      <th>17</th>\n",
       "      <th>18</th>\n",
       "      <th>19</th>\n",
       "      <th>media_id_freq</th>\n",
       "      <th>album_id_freq</th>\n",
       "      <th>artist_id_freq</th>\n",
       "      <th>genre_id_freq</th>\n",
       "    </tr>\n",
       "  </thead>\n",
       "  <tbody>\n",
       "    <tr>\n",
       "      <th>0</th>\n",
       "      <td>50</td>\n",
       "      <td>1478104371</td>\n",
       "      <td>-1</td>\n",
       "      <td>-1</td>\n",
       "      <td>1</td>\n",
       "      <td>-1</td>\n",
       "      <td>0</td>\n",
       "      <td>0</td>\n",
       "      <td>542</td>\n",
       "      <td>1</td>\n",
       "      <td>...</td>\n",
       "      <td>NaN</td>\n",
       "      <td>NaN</td>\n",
       "      <td>NaN</td>\n",
       "      <td>NaN</td>\n",
       "      <td>NaN</td>\n",
       "      <td>NaN</td>\n",
       "      <td>6.0</td>\n",
       "      <td>20.0</td>\n",
       "      <td>1111.0</td>\n",
       "      <td>79179</td>\n",
       "    </tr>\n",
       "    <tr>\n",
       "      <th>1</th>\n",
       "      <td>2744</td>\n",
       "      <td>1479317140</td>\n",
       "      <td>-1</td>\n",
       "      <td>-1</td>\n",
       "      <td>1</td>\n",
       "      <td>-1</td>\n",
       "      <td>0</td>\n",
       "      <td>0</td>\n",
       "      <td>307</td>\n",
       "      <td>1</td>\n",
       "      <td>...</td>\n",
       "      <td>NaN</td>\n",
       "      <td>NaN</td>\n",
       "      <td>NaN</td>\n",
       "      <td>NaN</td>\n",
       "      <td>NaN</td>\n",
       "      <td>NaN</td>\n",
       "      <td>441.0</td>\n",
       "      <td>1363.0</td>\n",
       "      <td>5537.0</td>\n",
       "      <td>84870</td>\n",
       "    </tr>\n",
       "    <tr>\n",
       "      <th>2</th>\n",
       "      <td>2744</td>\n",
       "      <td>1479546361</td>\n",
       "      <td>-1</td>\n",
       "      <td>-1</td>\n",
       "      <td>1</td>\n",
       "      <td>-1</td>\n",
       "      <td>0</td>\n",
       "      <td>0</td>\n",
       "      <td>307</td>\n",
       "      <td>1</td>\n",
       "      <td>...</td>\n",
       "      <td>NaN</td>\n",
       "      <td>NaN</td>\n",
       "      <td>NaN</td>\n",
       "      <td>NaN</td>\n",
       "      <td>NaN</td>\n",
       "      <td>NaN</td>\n",
       "      <td>441.0</td>\n",
       "      <td>1363.0</td>\n",
       "      <td>5537.0</td>\n",
       "      <td>84870</td>\n",
       "    </tr>\n",
       "    <tr>\n",
       "      <th>3</th>\n",
       "      <td>2744</td>\n",
       "      <td>1478457729</td>\n",
       "      <td>-1</td>\n",
       "      <td>-1</td>\n",
       "      <td>1</td>\n",
       "      <td>-1</td>\n",
       "      <td>2</td>\n",
       "      <td>1</td>\n",
       "      <td>265</td>\n",
       "      <td>1</td>\n",
       "      <td>...</td>\n",
       "      <td>NaN</td>\n",
       "      <td>NaN</td>\n",
       "      <td>NaN</td>\n",
       "      <td>NaN</td>\n",
       "      <td>NaN</td>\n",
       "      <td>NaN</td>\n",
       "      <td>176.0</td>\n",
       "      <td>1363.0</td>\n",
       "      <td>5537.0</td>\n",
       "      <td>84870</td>\n",
       "    </tr>\n",
       "    <tr>\n",
       "      <th>4</th>\n",
       "      <td>2744</td>\n",
       "      <td>1480448560</td>\n",
       "      <td>-1</td>\n",
       "      <td>-1</td>\n",
       "      <td>1</td>\n",
       "      <td>-1</td>\n",
       "      <td>2</td>\n",
       "      <td>1</td>\n",
       "      <td>356</td>\n",
       "      <td>1</td>\n",
       "      <td>...</td>\n",
       "      <td>NaN</td>\n",
       "      <td>NaN</td>\n",
       "      <td>NaN</td>\n",
       "      <td>NaN</td>\n",
       "      <td>NaN</td>\n",
       "      <td>NaN</td>\n",
       "      <td>15.0</td>\n",
       "      <td>1363.0</td>\n",
       "      <td>5537.0</td>\n",
       "      <td>84870</td>\n",
       "    </tr>\n",
       "  </tbody>\n",
       "</table>\n",
       "<p>5 rows × 58 columns</p>\n",
       "</div>"
      ],
      "text/plain": [
       "   genre_id   ts_listen media_id  album_id  context_type  release_date  \\\n",
       "0        50  1478104371       -1        -1             1            -1   \n",
       "1      2744  1479317140       -1        -1             1            -1   \n",
       "2      2744  1479546361       -1        -1             1            -1   \n",
       "3      2744  1478457729       -1        -1             1            -1   \n",
       "4      2744  1480448560       -1        -1             1            -1   \n",
       "\n",
       "   platform_name  platform_family  media_duration  listen_type      ...        \\\n",
       "0              0                0             542            1      ...         \n",
       "1              0                0             307            1      ...         \n",
       "2              0                0             307            1      ...         \n",
       "3              2                1             265            1      ...         \n",
       "4              2                1             356            1      ...         \n",
       "\n",
       "   14  15  16  17  18  19  media_id_freq  album_id_freq  artist_id_freq  \\\n",
       "0 NaN NaN NaN NaN NaN NaN            6.0           20.0          1111.0   \n",
       "1 NaN NaN NaN NaN NaN NaN          441.0         1363.0          5537.0   \n",
       "2 NaN NaN NaN NaN NaN NaN          441.0         1363.0          5537.0   \n",
       "3 NaN NaN NaN NaN NaN NaN          176.0         1363.0          5537.0   \n",
       "4 NaN NaN NaN NaN NaN NaN           15.0         1363.0          5537.0   \n",
       "\n",
       "   genre_id_freq  \n",
       "0          79179  \n",
       "1          84870  \n",
       "2          84870  \n",
       "3          84870  \n",
       "4          84870  \n",
       "\n",
       "[5 rows x 58 columns]"
      ]
     },
     "execution_count": 36,
     "metadata": {},
     "output_type": "execute_result"
    }
   ],
   "source": [
    "target=data['is_listened']\n",
    "del data['is_listened']\n",
    "test2=test.iloc[:,1:] \n",
    "data.head()\n",
    "test2.head()"
   ]
  },
  {
   "cell_type": "code",
   "execution_count": 37,
   "metadata": {},
   "outputs": [
    {
     "data": {
      "text/plain": [
       "(7570688, 58)"
      ]
     },
     "execution_count": 37,
     "metadata": {},
     "output_type": "execute_result"
    }
   ],
   "source": [
    "data.shape"
   ]
  },
  {
   "cell_type": "code",
   "execution_count": 38,
   "metadata": {
    "collapsed": true
   },
   "outputs": [],
   "source": [
    "data=pd.concat([data,test2],axis=0)\n",
    "data=data.fillna(0)"
   ]
  },
  {
   "cell_type": "code",
   "execution_count": 39,
   "metadata": {},
   "outputs": [
    {
     "data": {
      "text/plain": [
       "(7590606, 58)"
      ]
     },
     "execution_count": 39,
     "metadata": {},
     "output_type": "execute_result"
    }
   ],
   "source": [
    "data.shape"
   ]
  },
  {
   "cell_type": "code",
   "execution_count": 40,
   "metadata": {
    "collapsed": true
   },
   "outputs": [],
   "source": [
    "dummie1 = pd.get_dummies(data['context_type'], prefix='context_type', prefix_sep='_')\n",
    "dummie2 = pd.get_dummies(data['platform_name'], prefix='platform_name', prefix_sep='_')\n",
    "dummie3 = pd.get_dummies(data['platform_family'], prefix='platform_family', prefix_sep='_')\n",
    "dummie4 = pd.get_dummies(data['listen_type'], prefix='listen_type', prefix_sep='_')\n",
    "dummie5 = pd.get_dummies(data['user_gender'], prefix='user_gender', prefix_sep='_')\n",
    "dummie6 = pd.get_dummies(data['genre_id'], prefix='genre_id', prefix_sep='_')\n",
    "dummie7 = pd.get_dummies(data['album_id'], prefix='album_id', prefix_sep='_')\n",
    "dummie8 = pd.get_dummies(data['release_date'], prefix='album_id', prefix_sep='_')\n",
    "\n",
    "dummie16 = pd.get_dummies(data['media_id'], prefix='media_id', prefix_sep='_')\n",
    "#dummie9 = pd.get_dummies(fulldata['user_id'], prefix='user_id', prefix_sep='_',sparse=True)\n",
    "dummie9 = pd.get_dummies(data['usergencluster'], prefix='usergencluster', prefix_sep='_')\n",
    "dummie10 = pd.get_dummies(data['artist_id'], prefix='artist_id', prefix_sep='_')\n",
    "dummie11 = pd.get_dummies(data['usermedcluster'], prefix='usermedcluster', prefix_sep='_')\n",
    "dummie12= pd.get_dummies(data['useralbcluster'], prefix='useralbcluster', prefix_sep='_')\n",
    "dummie13= pd.get_dummies(data['userartcluster'], prefix='userartcluster', prefix_sep='_')\n",
    "dummie14= pd.get_dummies(data['userdatecluster'], prefix='userdatecluster', prefix_sep='_')\n",
    "dummie15= pd.get_dummies(data['usertimecluster'], prefix='usertimecluster', prefix_sep='_')"
   ]
  },
  {
   "cell_type": "code",
   "execution_count": 41,
   "metadata": {},
   "outputs": [
    {
     "data": {
      "text/html": [
       "<div>\n",
       "<style>\n",
       "    .dataframe thead tr:only-child th {\n",
       "        text-align: right;\n",
       "    }\n",
       "\n",
       "    .dataframe thead th {\n",
       "        text-align: left;\n",
       "    }\n",
       "\n",
       "    .dataframe tbody tr th {\n",
       "        vertical-align: top;\n",
       "    }\n",
       "</style>\n",
       "<table border=\"1\" class=\"dataframe\">\n",
       "  <thead>\n",
       "    <tr style=\"text-align: right;\">\n",
       "      <th></th>\n",
       "      <th>genre_id</th>\n",
       "      <th>ts_listen</th>\n",
       "      <th>media_id</th>\n",
       "      <th>album_id</th>\n",
       "      <th>context_type</th>\n",
       "      <th>release_date</th>\n",
       "      <th>platform_name</th>\n",
       "      <th>platform_family</th>\n",
       "      <th>media_duration</th>\n",
       "      <th>listen_type</th>\n",
       "      <th>...</th>\n",
       "      <th>media_id_135949700</th>\n",
       "      <th>media_id_135949706</th>\n",
       "      <th>media_id_135949708</th>\n",
       "      <th>media_id_135949710</th>\n",
       "      <th>media_id_136017244</th>\n",
       "      <th>media_id_136662032</th>\n",
       "      <th>usertimecluster_0</th>\n",
       "      <th>usertimecluster_1</th>\n",
       "      <th>usertimecluster_2</th>\n",
       "      <th>usertimecluster_3</th>\n",
       "    </tr>\n",
       "  </thead>\n",
       "  <tbody>\n",
       "    <tr>\n",
       "      <th>0</th>\n",
       "      <td>0</td>\n",
       "      <td>1478950200</td>\n",
       "      <td>-1</td>\n",
       "      <td>-1</td>\n",
       "      <td>0</td>\n",
       "      <td>-1</td>\n",
       "      <td>0</td>\n",
       "      <td>0</td>\n",
       "      <td>225</td>\n",
       "      <td>0</td>\n",
       "      <td>...</td>\n",
       "      <td>0</td>\n",
       "      <td>0</td>\n",
       "      <td>0</td>\n",
       "      <td>0</td>\n",
       "      <td>0</td>\n",
       "      <td>0</td>\n",
       "      <td>1</td>\n",
       "      <td>0</td>\n",
       "      <td>0</td>\n",
       "      <td>0</td>\n",
       "    </tr>\n",
       "    <tr>\n",
       "      <th>1</th>\n",
       "      <td>-1</td>\n",
       "      <td>1479865789</td>\n",
       "      <td>-1</td>\n",
       "      <td>-1</td>\n",
       "      <td>0</td>\n",
       "      <td>-1</td>\n",
       "      <td>0</td>\n",
       "      <td>0</td>\n",
       "      <td>255</td>\n",
       "      <td>0</td>\n",
       "      <td>...</td>\n",
       "      <td>0</td>\n",
       "      <td>0</td>\n",
       "      <td>0</td>\n",
       "      <td>0</td>\n",
       "      <td>0</td>\n",
       "      <td>0</td>\n",
       "      <td>0</td>\n",
       "      <td>0</td>\n",
       "      <td>1</td>\n",
       "      <td>0</td>\n",
       "    </tr>\n",
       "    <tr>\n",
       "      <th>2</th>\n",
       "      <td>0</td>\n",
       "      <td>1478156053</td>\n",
       "      <td>125890431</td>\n",
       "      <td>13246617</td>\n",
       "      <td>0</td>\n",
       "      <td>20160704</td>\n",
       "      <td>0</td>\n",
       "      <td>0</td>\n",
       "      <td>179</td>\n",
       "      <td>0</td>\n",
       "      <td>...</td>\n",
       "      <td>0</td>\n",
       "      <td>0</td>\n",
       "      <td>0</td>\n",
       "      <td>0</td>\n",
       "      <td>0</td>\n",
       "      <td>0</td>\n",
       "      <td>0</td>\n",
       "      <td>0</td>\n",
       "      <td>0</td>\n",
       "      <td>1</td>\n",
       "    </tr>\n",
       "    <tr>\n",
       "      <th>3</th>\n",
       "      <td>0</td>\n",
       "      <td>1480164382</td>\n",
       "      <td>-1</td>\n",
       "      <td>-1</td>\n",
       "      <td>2</td>\n",
       "      <td>-1</td>\n",
       "      <td>0</td>\n",
       "      <td>0</td>\n",
       "      <td>161</td>\n",
       "      <td>0</td>\n",
       "      <td>...</td>\n",
       "      <td>0</td>\n",
       "      <td>0</td>\n",
       "      <td>0</td>\n",
       "      <td>0</td>\n",
       "      <td>0</td>\n",
       "      <td>0</td>\n",
       "      <td>1</td>\n",
       "      <td>0</td>\n",
       "      <td>0</td>\n",
       "      <td>0</td>\n",
       "    </tr>\n",
       "    <tr>\n",
       "      <th>4</th>\n",
       "      <td>-1</td>\n",
       "      <td>1479291089</td>\n",
       "      <td>-1</td>\n",
       "      <td>-1</td>\n",
       "      <td>1</td>\n",
       "      <td>-1</td>\n",
       "      <td>2</td>\n",
       "      <td>1</td>\n",
       "      <td>180</td>\n",
       "      <td>1</td>\n",
       "      <td>...</td>\n",
       "      <td>0</td>\n",
       "      <td>0</td>\n",
       "      <td>0</td>\n",
       "      <td>0</td>\n",
       "      <td>0</td>\n",
       "      <td>0</td>\n",
       "      <td>0</td>\n",
       "      <td>0</td>\n",
       "      <td>1</td>\n",
       "      <td>0</td>\n",
       "    </tr>\n",
       "  </tbody>\n",
       "</table>\n",
       "<p>5 rows × 876 columns</p>\n",
       "</div>"
      ],
      "text/plain": [
       "   genre_id   ts_listen   media_id  album_id  context_type  release_date  \\\n",
       "0         0  1478950200         -1        -1             0            -1   \n",
       "1        -1  1479865789         -1        -1             0            -1   \n",
       "2         0  1478156053  125890431  13246617             0      20160704   \n",
       "3         0  1480164382         -1        -1             2            -1   \n",
       "4        -1  1479291089         -1        -1             1            -1   \n",
       "\n",
       "   platform_name  platform_family  media_duration  listen_type  \\\n",
       "0              0                0             225            0   \n",
       "1              0                0             255            0   \n",
       "2              0                0             179            0   \n",
       "3              0                0             161            0   \n",
       "4              2                1             180            1   \n",
       "\n",
       "         ...          media_id_135949700  media_id_135949706  \\\n",
       "0        ...                           0                   0   \n",
       "1        ...                           0                   0   \n",
       "2        ...                           0                   0   \n",
       "3        ...                           0                   0   \n",
       "4        ...                           0                   0   \n",
       "\n",
       "   media_id_135949708  media_id_135949710  media_id_136017244  \\\n",
       "0                   0                   0                   0   \n",
       "1                   0                   0                   0   \n",
       "2                   0                   0                   0   \n",
       "3                   0                   0                   0   \n",
       "4                   0                   0                   0   \n",
       "\n",
       "   media_id_136662032  usertimecluster_0  usertimecluster_1  \\\n",
       "0                   0                  1                  0   \n",
       "1                   0                  0                  0   \n",
       "2                   0                  0                  0   \n",
       "3                   0                  1                  0   \n",
       "4                   0                  0                  0   \n",
       "\n",
       "   usertimecluster_2  usertimecluster_3  \n",
       "0                  0                  0  \n",
       "1                  1                  0  \n",
       "2                  0                  1  \n",
       "3                  0                  0  \n",
       "4                  1                  0  \n",
       "\n",
       "[5 rows x 876 columns]"
      ]
     },
     "execution_count": 41,
     "metadata": {},
     "output_type": "execute_result"
    }
   ],
   "source": [
    "data=pd.concat([data,dummie10,dummie1,dummie2,dummie3,dummie4,dummie5,dummie6,dummie7,dummie8,dummie9,dummie11,dummie12,dummie13,dummie14,dummie16,dummie15],axis=1)\n",
    "data.head()"
   ]
  },
  {
   "cell_type": "code",
   "execution_count": 43,
   "metadata": {
    "collapsed": true
   },
   "outputs": [],
   "source": [
    "del dummie1\n",
    "del dummie2\n",
    "del dummie3\n",
    "del dummie4\n",
    "del dummie5\n",
    "del dummie6\n",
    "del dummie7\n",
    "del dummie8\n",
    "del dummie9\n",
    "del dummie10\n",
    "del dummie11\n",
    "del dummie12\n",
    "del dummie13\n",
    "del dummie14"
   ]
  },
  {
   "cell_type": "code",
   "execution_count": 47,
   "metadata": {},
   "outputs": [
    {
     "data": {
      "text/html": [
       "<div>\n",
       "<style>\n",
       "    .dataframe thead tr:only-child th {\n",
       "        text-align: right;\n",
       "    }\n",
       "\n",
       "    .dataframe thead th {\n",
       "        text-align: left;\n",
       "    }\n",
       "\n",
       "    .dataframe tbody tr th {\n",
       "        vertical-align: top;\n",
       "    }\n",
       "</style>\n",
       "<table border=\"1\" class=\"dataframe\">\n",
       "  <thead>\n",
       "    <tr style=\"text-align: right;\">\n",
       "      <th></th>\n",
       "      <th>sample_id</th>\n",
       "      <th>genre_id</th>\n",
       "      <th>ts_listen</th>\n",
       "      <th>media_id</th>\n",
       "      <th>album_id</th>\n",
       "      <th>context_type</th>\n",
       "      <th>release_date</th>\n",
       "      <th>platform_name</th>\n",
       "      <th>platform_family</th>\n",
       "      <th>media_duration</th>\n",
       "      <th>...</th>\n",
       "      <th>14</th>\n",
       "      <th>15</th>\n",
       "      <th>16</th>\n",
       "      <th>17</th>\n",
       "      <th>18</th>\n",
       "      <th>19</th>\n",
       "      <th>media_id_freq</th>\n",
       "      <th>album_id_freq</th>\n",
       "      <th>artist_id_freq</th>\n",
       "      <th>genre_id_freq</th>\n",
       "    </tr>\n",
       "  </thead>\n",
       "  <tbody>\n",
       "    <tr>\n",
       "      <th>0</th>\n",
       "      <td>0</td>\n",
       "      <td>50</td>\n",
       "      <td>1478104371</td>\n",
       "      <td>-1</td>\n",
       "      <td>-1</td>\n",
       "      <td>1</td>\n",
       "      <td>-1</td>\n",
       "      <td>0</td>\n",
       "      <td>0</td>\n",
       "      <td>542</td>\n",
       "      <td>...</td>\n",
       "      <td>NaN</td>\n",
       "      <td>NaN</td>\n",
       "      <td>NaN</td>\n",
       "      <td>NaN</td>\n",
       "      <td>NaN</td>\n",
       "      <td>NaN</td>\n",
       "      <td>6.0</td>\n",
       "      <td>20.0</td>\n",
       "      <td>1111.0</td>\n",
       "      <td>79179</td>\n",
       "    </tr>\n",
       "    <tr>\n",
       "      <th>1</th>\n",
       "      <td>1</td>\n",
       "      <td>2744</td>\n",
       "      <td>1479317140</td>\n",
       "      <td>-1</td>\n",
       "      <td>-1</td>\n",
       "      <td>1</td>\n",
       "      <td>-1</td>\n",
       "      <td>0</td>\n",
       "      <td>0</td>\n",
       "      <td>307</td>\n",
       "      <td>...</td>\n",
       "      <td>NaN</td>\n",
       "      <td>NaN</td>\n",
       "      <td>NaN</td>\n",
       "      <td>NaN</td>\n",
       "      <td>NaN</td>\n",
       "      <td>NaN</td>\n",
       "      <td>441.0</td>\n",
       "      <td>1363.0</td>\n",
       "      <td>5537.0</td>\n",
       "      <td>84870</td>\n",
       "    </tr>\n",
       "    <tr>\n",
       "      <th>2</th>\n",
       "      <td>2</td>\n",
       "      <td>2744</td>\n",
       "      <td>1479546361</td>\n",
       "      <td>-1</td>\n",
       "      <td>-1</td>\n",
       "      <td>1</td>\n",
       "      <td>-1</td>\n",
       "      <td>0</td>\n",
       "      <td>0</td>\n",
       "      <td>307</td>\n",
       "      <td>...</td>\n",
       "      <td>NaN</td>\n",
       "      <td>NaN</td>\n",
       "      <td>NaN</td>\n",
       "      <td>NaN</td>\n",
       "      <td>NaN</td>\n",
       "      <td>NaN</td>\n",
       "      <td>441.0</td>\n",
       "      <td>1363.0</td>\n",
       "      <td>5537.0</td>\n",
       "      <td>84870</td>\n",
       "    </tr>\n",
       "    <tr>\n",
       "      <th>3</th>\n",
       "      <td>3</td>\n",
       "      <td>2744</td>\n",
       "      <td>1478457729</td>\n",
       "      <td>-1</td>\n",
       "      <td>-1</td>\n",
       "      <td>1</td>\n",
       "      <td>-1</td>\n",
       "      <td>2</td>\n",
       "      <td>1</td>\n",
       "      <td>265</td>\n",
       "      <td>...</td>\n",
       "      <td>NaN</td>\n",
       "      <td>NaN</td>\n",
       "      <td>NaN</td>\n",
       "      <td>NaN</td>\n",
       "      <td>NaN</td>\n",
       "      <td>NaN</td>\n",
       "      <td>176.0</td>\n",
       "      <td>1363.0</td>\n",
       "      <td>5537.0</td>\n",
       "      <td>84870</td>\n",
       "    </tr>\n",
       "    <tr>\n",
       "      <th>4</th>\n",
       "      <td>4</td>\n",
       "      <td>2744</td>\n",
       "      <td>1480448560</td>\n",
       "      <td>-1</td>\n",
       "      <td>-1</td>\n",
       "      <td>1</td>\n",
       "      <td>-1</td>\n",
       "      <td>2</td>\n",
       "      <td>1</td>\n",
       "      <td>356</td>\n",
       "      <td>...</td>\n",
       "      <td>NaN</td>\n",
       "      <td>NaN</td>\n",
       "      <td>NaN</td>\n",
       "      <td>NaN</td>\n",
       "      <td>NaN</td>\n",
       "      <td>NaN</td>\n",
       "      <td>15.0</td>\n",
       "      <td>1363.0</td>\n",
       "      <td>5537.0</td>\n",
       "      <td>84870</td>\n",
       "    </tr>\n",
       "  </tbody>\n",
       "</table>\n",
       "<p>5 rows × 59 columns</p>\n",
       "</div>"
      ],
      "text/plain": [
       "   sample_id  genre_id   ts_listen media_id  album_id  context_type  \\\n",
       "0          0        50  1478104371       -1        -1             1   \n",
       "1          1      2744  1479317140       -1        -1             1   \n",
       "2          2      2744  1479546361       -1        -1             1   \n",
       "3          3      2744  1478457729       -1        -1             1   \n",
       "4          4      2744  1480448560       -1        -1             1   \n",
       "\n",
       "   release_date  platform_name  platform_family  media_duration  \\\n",
       "0            -1              0                0             542   \n",
       "1            -1              0                0             307   \n",
       "2            -1              0                0             307   \n",
       "3            -1              2                1             265   \n",
       "4            -1              2                1             356   \n",
       "\n",
       "       ...        14  15  16  17  18  19  media_id_freq  album_id_freq  \\\n",
       "0      ...       NaN NaN NaN NaN NaN NaN            6.0           20.0   \n",
       "1      ...       NaN NaN NaN NaN NaN NaN          441.0         1363.0   \n",
       "2      ...       NaN NaN NaN NaN NaN NaN          441.0         1363.0   \n",
       "3      ...       NaN NaN NaN NaN NaN NaN          176.0         1363.0   \n",
       "4      ...       NaN NaN NaN NaN NaN NaN           15.0         1363.0   \n",
       "\n",
       "   artist_id_freq  genre_id_freq  \n",
       "0          1111.0          79179  \n",
       "1          5537.0          84870  \n",
       "2          5537.0          84870  \n",
       "3          5537.0          84870  \n",
       "4          5537.0          84870  \n",
       "\n",
       "[5 rows x 59 columns]"
      ]
     },
     "execution_count": 47,
     "metadata": {},
     "output_type": "execute_result"
    }
   ],
   "source": [
    "test.head()"
   ]
  },
  {
   "cell_type": "code",
   "execution_count": 46,
   "metadata": {},
   "outputs": [
    {
     "ename": "MemoryError",
     "evalue": "",
     "output_type": "error",
     "traceback": [
      "\u001b[0;31m---------------------------------------------------------------------------\u001b[0m",
      "\u001b[0;31mMemoryError\u001b[0m                               Traceback (most recent call last)",
      "\u001b[0;32m<ipython-input-46-6ba6ac60397c>\u001b[0m in \u001b[0;36m<module>\u001b[0;34m()\u001b[0m\n\u001b[0;32m----> 1\u001b[0;31m \u001b[0mpredictors\u001b[0m \u001b[0;34m=\u001b[0m \u001b[0mdata\u001b[0m\u001b[0;34m.\u001b[0m\u001b[0miloc\u001b[0m\u001b[0;34m[\u001b[0m\u001b[0;34m:\u001b[0m\u001b[0;36m6000000\u001b[0m\u001b[0;34m,\u001b[0m\u001b[0;36m38\u001b[0m\u001b[0;34m:\u001b[0m\u001b[0;36m856\u001b[0m\u001b[0;34m]\u001b[0m\u001b[0;34m.\u001b[0m\u001b[0mas_matrix\u001b[0m\u001b[0;34m(\u001b[0m\u001b[0;34m)\u001b[0m\u001b[0;31m# assign feature dataframe to predictors removing the target column\u001b[0m\u001b[0;34m\u001b[0m\u001b[0m\n\u001b[0m\u001b[1;32m      2\u001b[0m \u001b[0mtarget1\u001b[0m \u001b[0;34m=\u001b[0m \u001b[0mto_categorical\u001b[0m\u001b[0;34m(\u001b[0m\u001b[0mtarget\u001b[0m\u001b[0;34m)\u001b[0m\u001b[0;31m# assign target dataframe to y\u001b[0m\u001b[0;34m\u001b[0m\u001b[0m\n\u001b[1;32m      3\u001b[0m \u001b[0mn_cols\u001b[0m \u001b[0;34m=\u001b[0m \u001b[0mpredictors\u001b[0m\u001b[0;34m.\u001b[0m\u001b[0mshape\u001b[0m\u001b[0;34m[\u001b[0m\u001b[0;36m1\u001b[0m\u001b[0;34m]\u001b[0m\u001b[0;34m\u001b[0m\u001b[0m\n\u001b[1;32m      4\u001b[0m \u001b[0mpredictors\u001b[0m\u001b[0;34m.\u001b[0m\u001b[0mshape\u001b[0m\u001b[0;34m\u001b[0m\u001b[0m\n",
      "\u001b[0;32m/usr/local/lib/python2.7/dist-packages/pandas/core/generic.pyc\u001b[0m in \u001b[0;36mas_matrix\u001b[0;34m(self, columns)\u001b[0m\n\u001b[1;32m   3140\u001b[0m         \u001b[0mself\u001b[0m\u001b[0;34m.\u001b[0m\u001b[0m_consolidate_inplace\u001b[0m\u001b[0;34m(\u001b[0m\u001b[0;34m)\u001b[0m\u001b[0;34m\u001b[0m\u001b[0m\n\u001b[1;32m   3141\u001b[0m         \u001b[0;32mif\u001b[0m \u001b[0mself\u001b[0m\u001b[0;34m.\u001b[0m\u001b[0m_AXIS_REVERSED\u001b[0m\u001b[0;34m:\u001b[0m\u001b[0;34m\u001b[0m\u001b[0m\n\u001b[0;32m-> 3142\u001b[0;31m             \u001b[0;32mreturn\u001b[0m \u001b[0mself\u001b[0m\u001b[0;34m.\u001b[0m\u001b[0m_data\u001b[0m\u001b[0;34m.\u001b[0m\u001b[0mas_matrix\u001b[0m\u001b[0;34m(\u001b[0m\u001b[0mcolumns\u001b[0m\u001b[0;34m)\u001b[0m\u001b[0;34m.\u001b[0m\u001b[0mT\u001b[0m\u001b[0;34m\u001b[0m\u001b[0m\n\u001b[0m\u001b[1;32m   3143\u001b[0m         \u001b[0;32mreturn\u001b[0m \u001b[0mself\u001b[0m\u001b[0;34m.\u001b[0m\u001b[0m_data\u001b[0m\u001b[0;34m.\u001b[0m\u001b[0mas_matrix\u001b[0m\u001b[0;34m(\u001b[0m\u001b[0mcolumns\u001b[0m\u001b[0;34m)\u001b[0m\u001b[0;34m\u001b[0m\u001b[0m\n\u001b[1;32m   3144\u001b[0m \u001b[0;34m\u001b[0m\u001b[0m\n",
      "\u001b[0;32m/usr/local/lib/python2.7/dist-packages/pandas/core/internals.pyc\u001b[0m in \u001b[0;36mas_matrix\u001b[0;34m(self, items)\u001b[0m\n\u001b[1;32m   3448\u001b[0m             \u001b[0;32mreturn\u001b[0m \u001b[0mmgr\u001b[0m\u001b[0;34m.\u001b[0m\u001b[0mblocks\u001b[0m\u001b[0;34m[\u001b[0m\u001b[0;36m0\u001b[0m\u001b[0;34m]\u001b[0m\u001b[0;34m.\u001b[0m\u001b[0mget_values\u001b[0m\u001b[0;34m(\u001b[0m\u001b[0;34m)\u001b[0m\u001b[0;34m\u001b[0m\u001b[0m\n\u001b[1;32m   3449\u001b[0m         \u001b[0;32melse\u001b[0m\u001b[0;34m:\u001b[0m\u001b[0;34m\u001b[0m\u001b[0m\n\u001b[0;32m-> 3450\u001b[0;31m             \u001b[0;32mreturn\u001b[0m \u001b[0mmgr\u001b[0m\u001b[0;34m.\u001b[0m\u001b[0m_interleave\u001b[0m\u001b[0;34m(\u001b[0m\u001b[0;34m)\u001b[0m\u001b[0;34m\u001b[0m\u001b[0m\n\u001b[0m\u001b[1;32m   3451\u001b[0m \u001b[0;34m\u001b[0m\u001b[0m\n\u001b[1;32m   3452\u001b[0m     \u001b[0;32mdef\u001b[0m \u001b[0m_interleave\u001b[0m\u001b[0;34m(\u001b[0m\u001b[0mself\u001b[0m\u001b[0;34m)\u001b[0m\u001b[0;34m:\u001b[0m\u001b[0;34m\u001b[0m\u001b[0m\n",
      "\u001b[0;32m/usr/local/lib/python2.7/dist-packages/pandas/core/internals.pyc\u001b[0m in \u001b[0;36m_interleave\u001b[0;34m(self)\u001b[0m\n\u001b[1;32m   3457\u001b[0m         \u001b[0mdtype\u001b[0m \u001b[0;34m=\u001b[0m \u001b[0m_interleaved_dtype\u001b[0m\u001b[0;34m(\u001b[0m\u001b[0mself\u001b[0m\u001b[0;34m.\u001b[0m\u001b[0mblocks\u001b[0m\u001b[0;34m)\u001b[0m\u001b[0;34m\u001b[0m\u001b[0m\n\u001b[1;32m   3458\u001b[0m \u001b[0;34m\u001b[0m\u001b[0m\n\u001b[0;32m-> 3459\u001b[0;31m         \u001b[0mresult\u001b[0m \u001b[0;34m=\u001b[0m \u001b[0mnp\u001b[0m\u001b[0;34m.\u001b[0m\u001b[0mempty\u001b[0m\u001b[0;34m(\u001b[0m\u001b[0mself\u001b[0m\u001b[0;34m.\u001b[0m\u001b[0mshape\u001b[0m\u001b[0;34m,\u001b[0m \u001b[0mdtype\u001b[0m\u001b[0;34m=\u001b[0m\u001b[0mdtype\u001b[0m\u001b[0;34m)\u001b[0m\u001b[0;34m\u001b[0m\u001b[0m\n\u001b[0m\u001b[1;32m   3460\u001b[0m \u001b[0;34m\u001b[0m\u001b[0m\n\u001b[1;32m   3461\u001b[0m         \u001b[0;32mif\u001b[0m \u001b[0mresult\u001b[0m\u001b[0;34m.\u001b[0m\u001b[0mshape\u001b[0m\u001b[0;34m[\u001b[0m\u001b[0;36m0\u001b[0m\u001b[0;34m]\u001b[0m \u001b[0;34m==\u001b[0m \u001b[0;36m0\u001b[0m\u001b[0;34m:\u001b[0m\u001b[0;34m\u001b[0m\u001b[0m\n",
      "\u001b[0;31mMemoryError\u001b[0m: "
     ]
    }
   ],
   "source": [
    "predictors = data.iloc[:6000000,38:].as_matrix()# assign feature dataframe to predictors removing the target column\n",
    "target1 = to_categorical(target)# assign target dataframe to y\n",
    "n_cols = predictors.shape[1]\n",
    "predictors.shape"
   ]
  },
  {
   "cell_type": "code",
   "execution_count": 18,
   "metadata": {},
   "outputs": [
    {
     "data": {
      "text/plain": [
       "7570894"
      ]
     },
     "execution_count": 18,
     "metadata": {},
     "output_type": "execute_result"
    }
   ],
   "source": [
    "train_size = len(data) - len(test) - 200000\n",
    "train_size\n",
    "valid_size = len(data) - len(test)\n",
    "valid_size"
   ]
  },
  {
   "cell_type": "code",
   "execution_count": 41,
   "metadata": {
    "collapsed": true
   },
   "outputs": [],
   "source": [
    "n_cols = predictors.shape[1]"
   ]
  },
  {
   "cell_type": "code",
   "execution_count": 42,
   "metadata": {
    "collapsed": true
   },
   "outputs": [],
   "source": [
    "early_stopping_monitor = EarlyStopping(patience = 2)\n",
    "\n",
    "# Model\n",
    "model = Sequential()\n",
    "model.add(Dense(96 , activation = 'relu' , input_shape = (n_cols,)))\n",
    "#model.add(Dropout(0.4))\n",
    "model.add(Dense(96 , activation = 'relu'))\n",
    "#model.add(Dropout(0.4))\n",
    "model.add(Dense(56 , activation = 'relu'))\n",
    "#model.add(Dropout(0.4))\n",
    "model.add(Dense(56 , activation = 'relu'))\n",
    "#model.add(Dropout(0.4))\n",
    "model.add(Dense(56 , activation = 'relu'))\n",
    "model.add(Dense(42 , activation = 'relu'))\n",
    "model.add(Dense(14 , activation = 'relu'))\n",
    "#model.add(Dropout(0.4))\n",
    "\n",
    "model.add(Dense(2 , activation = 'softmax'))\n",
    "\n",
    "model.compile(optimizer = 'adam' , loss = 'categorical_crossentropy' , metrics = ['accuracy'])"
   ]
  },
  {
   "cell_type": "code",
   "execution_count": 45,
   "metadata": {},
   "outputs": [
    {
     "name": "stdout",
     "output_type": "stream",
     "text": [
      "Train on 6000000 samples, validate on 199999 samples\n",
      "Epoch 1/1\n",
      "6000000/6000000 [==============================] - 654s - loss: 0.5141 - acc: 0.7461 - val_loss: 0.5055 - val_acc: 0.7513\n"
     ]
    },
    {
     "data": {
      "text/plain": [
       "<keras.callbacks.History at 0x7f61daff56d0>"
      ]
     },
     "execution_count": 45,
     "metadata": {},
     "output_type": "execute_result"
    }
   ],
   "source": [
    "model.fit(predictors , target1[0:6000000] , validation_data = [validset,target1[train_size+1:]] , epochs = 1 , callbacks = [early_stopping_monitor])"
   ]
  },
  {
   "cell_type": "code",
   "execution_count": 62,
   "metadata": {},
   "outputs": [
    {
     "name": "stdout",
     "output_type": "stream",
     "text": [
      "818\n"
     ]
    }
   ],
   "source": [
    "print(n_cols)\n",
    "p_tr = model.predict_proba(predictors, verbose=0)[:,1]\n",
    "p_tr1 = model.predict_proba(predictors1, verbose=0)[:,1]"
   ]
  },
  {
   "cell_type": "code",
   "execution_count": 67,
   "metadata": {
    "collapsed": true
   },
   "outputs": [],
   "source": [
    "#k_sub1 = pd.DataFrame(p_tr, columns=['keras_nd_1e_6l'])\n",
    "#k_sub2 = pd.DataFrame(p_tr1, columns=['keras_nd_1e_6l'])\n",
    "sub=pd.concat([k_sub1,k_sub2],axis=0)"
   ]
  },
  {
   "cell_type": "code",
   "execution_count": 68,
   "metadata": {},
   "outputs": [
    {
     "data": {
      "text/plain": [
       "7570688"
      ]
     },
     "execution_count": 68,
     "metadata": {},
     "output_type": "execute_result"
    }
   ],
   "source": [
    "len(sub)"
   ]
  },
  {
   "cell_type": "code",
   "execution_count": 69,
   "metadata": {
    "collapsed": true
   },
   "outputs": [],
   "source": [
    "sub.to_csv(\"keras_nd_1e_train.csv\")"
   ]
  },
  {
   "cell_type": "code",
   "execution_count": 70,
   "metadata": {},
   "outputs": [
    {
     "name": "stdout",
     "output_type": "stream",
     "text": [
      "Saved model to disk\n"
     ]
    }
   ],
   "source": [
    "model_json = model.to_json()\n",
    "with open(\"keras_nd_1e_2505.json\", \"w\") as json_file:\n",
    "    json_file.write(model_json)\n",
    "# serialize weights to HDF5\n",
    "model.save_weights(\"keras_nd_1e_2505.h5\")\n",
    "print(\"Saved model to disk\")"
   ]
  },
  {
   "cell_type": "code",
   "execution_count": 21,
   "metadata": {},
   "outputs": [
    {
     "data": {
      "text/plain": [
       "0.78659001653668625"
      ]
     },
     "execution_count": 21,
     "metadata": {},
     "output_type": "execute_result"
    }
   ],
   "source": [
    "valid_preds = model.predict_proba(predictors[train_size+1:valid_size], verbose=0)\n",
    "valid_preds = valid_preds[:, 1]\n",
    "roc = metrics.roc_auc_score(target1[train_size+1:valid_size,1], valid_preds)\n",
    "roc"
   ]
  },
  {
   "cell_type": "code",
   "execution_count": 22,
   "metadata": {
    "collapsed": true
   },
   "outputs": [],
   "source": [
    "preds = model.predict_proba(predictors[valid_size:], verbose=0)[:, 1]\n",
    "submission = pd.DataFrame(preds, columns=['is_listened'])\n",
    "submission.to_csv('Keras_21054_b2_100_1.csv')"
   ]
  },
  {
   "cell_type": "code",
   "execution_count": 24,
   "metadata": {},
   "outputs": [
    {
     "data": {
      "text/plain": [
       "array([ 0.62940764,  0.63872761,  0.42107567, ...,  0.8877719 ,\n",
       "        0.77361989,  0.86544377], dtype=float32)"
      ]
     },
     "execution_count": 24,
     "metadata": {},
     "output_type": "execute_result"
    }
   ],
   "source": [
    "preds"
   ]
  },
  {
   "cell_type": "code",
   "execution_count": 27,
   "metadata": {
    "collapsed": true
   },
   "outputs": [],
   "source": [
    "early_stopping_monitor = EarlyStopping(patience = 2)\n",
    "\n",
    "# Model\n",
    "model1 = Sequential()\n",
    "model1.add(Dense(96 , activation = 'relu' , input_shape = (n_cols,)))\n",
    "model1.add(Dropout(0.4))\n",
    "model1.add(Dense(96 , activation = 'relu'))\n",
    "model1.add(Dropout(0.4))\n",
    "model1.add(Dense(56 , activation = 'relu'))\n",
    "model1.add(Dropout(0.4))\n",
    "model1.add(Dense(56 , activation = 'relu'))\n",
    "model1.add(Dropout(0.4))\n",
    "model1.add(Dense(56 , activation = 'relu'))\n",
    "model1.add(Dense(42 , activation = 'relu'))\n",
    "model1.add(Dense(14 , activation = 'relu'))\n",
    "model1.add(Dropout(0.4))\n",
    "\n",
    "model1.add(Dense(2 , activation = 'softmax'))\n",
    "\n",
    "model1.compile(optimizer = 'adam' , loss = 'categorical_crossentropy' , metrics = ['accuracy'])"
   ]
  },
  {
   "cell_type": "code",
   "execution_count": 11,
   "metadata": {},
   "outputs": [
    {
     "name": "stderr",
     "output_type": "stream",
     "text": [
      "/usr/local/lib/python2.7/dist-packages/sklearn/cross_validation.py:44: DeprecationWarning: This module was deprecated in version 0.18 in favor of the model_selection module into which all the refactored classes and functions are moved. Also note that the interface of the new CV iterators are different from that of this module. This module will be removed in 0.20.\n",
      "  \"This module will be removed in 0.20.\", DeprecationWarning)\n"
     ]
    }
   ],
   "source": [
    "import xgboost as xgb\n",
    "\n",
    "params = {\"objective\": \"binary:logistic\",\"eval_metric\": \"auc\" ,\"booster\": \"gbtree\",\n",
    "          \"eta\": 0.1, \"colsample_bytree\": 0.6, \"min_child_weight\": 0.7,\n",
    "          \"tree_method\": \"exact\", \"seed\": \"1992\"}"
   ]
  },
  {
   "cell_type": "code",
   "execution_count": null,
   "metadata": {
    "collapsed": true
   },
   "outputs": [],
   "source": [
    "bst = xgb.train( param, dtrain, 1, watchlist )\n",
    "ptrain = bst.predict(dtrain, output_margin=True)\n",
    "ptest  = bst.predict(dtest, output_margin=True)\n",
    "ptrain = ptrain.reshape(-1, 1)\n",
    "ptest = ptest.reshape(-1, 1)\n",
    "dtrain.set_base_margin(ptrain)\n",
    "dtest.set_base_margin(ptest)\n",
    "print ('this is result of running from initial prediction')\n",
    "bst = xgb.train( param, dtrain, 100, watchlist )"
   ]
  },
  {
   "cell_type": "code",
   "execution_count": 31,
   "metadata": {
    "collapsed": true
   },
   "outputs": [],
   "source": [
    "ptrain = predictors[:train_size].reshape(-1,1)"
   ]
  },
  {
   "cell_type": "code",
   "execution_count": 26,
   "metadata": {},
   "outputs": [
    {
     "data": {
      "text/plain": [
       "0"
      ]
     },
     "execution_count": 26,
     "metadata": {},
     "output_type": "execute_result"
    }
   ],
   "source": [
    "#ptrain.shape\n",
    "target[7570777]"
   ]
  },
  {
   "cell_type": "code",
   "execution_count": 15,
   "metadata": {},
   "outputs": [
    {
     "data": {
      "text/plain": [
       "7570688"
      ]
     },
     "execution_count": 15,
     "metadata": {},
     "output_type": "execute_result"
    }
   ],
   "source": [
    "train_size = len(data) - len(test) - 200000\n",
    "train_size\n",
    "valid_size = len(data) - len(test)\n",
    "valid_size"
   ]
  },
  {
   "cell_type": "code",
   "execution_count": 16,
   "metadata": {},
   "outputs": [
    {
     "data": {
      "text/plain": [
       "19918"
      ]
     },
     "execution_count": 16,
     "metadata": {},
     "output_type": "execute_result"
    }
   ],
   "source": [
    "len(data)-7570688\n"
   ]
  },
  {
   "cell_type": "code",
   "execution_count": 17,
   "metadata": {},
   "outputs": [
    {
     "data": {
      "text/plain": [
       "-200000"
      ]
     },
     "execution_count": 17,
     "metadata": {},
     "output_type": "execute_result"
    }
   ],
   "source": [
    "train_size - valid_size"
   ]
  },
  {
   "cell_type": "code",
   "execution_count": 12,
   "metadata": {
    "collapsed": true
   },
   "outputs": [],
   "source": [
    "predictors = data.iloc[:6000000,38:856].as_matrix()"
   ]
  },
  {
   "cell_type": "code",
   "execution_count": 49,
   "metadata": {
    "collapsed": true
   },
   "outputs": [],
   "source": [
    "predictors1 = data.iloc[:valid_size,38:856].as_matrix()\n",
    "validset = data.iloc[train_size:valid_size,38:856].as_matrix()\n",
    "testset = data.iloc[valid_size:,38:856].as_matrix()\n",
    "dtrain = xgb.DMatrix(predictors, target[0:6000000])\n",
    "dvalid = xgb.DMatrix(validset, target[train_size+1:])\n",
    "dtest = xgb.DMatrix(testset)\n",
    "dtrain = xgb.DMatrix(data.iloc[:3000000,38:856], target[0:3000000])"
   ]
  },
  {
   "cell_type": "code",
   "execution_count": 18,
   "metadata": {
    "collapsed": true
   },
   "outputs": [],
   "source": []
  },
  {
   "cell_type": "code",
   "execution_count": 50,
   "metadata": {},
   "outputs": [
    {
     "data": {
      "text/plain": [
       "1570688"
      ]
     },
     "execution_count": 50,
     "metadata": {},
     "output_type": "execute_result"
    }
   ],
   "source": [
    "len(predictors1)"
   ]
  },
  {
   "cell_type": "code",
   "execution_count": 21,
   "metadata": {
    "collapsed": true
   },
   "outputs": [],
   "source": [
    "\n",
    "#data.iloc[:,38:856]\n",
    "#dtest = xgb.DMatrix(test[features])"
   ]
  },
  {
   "cell_type": "code",
   "execution_count": 51,
   "metadata": {
    "collapsed": true
   },
   "outputs": [],
   "source": [
    "dtrain1 = xgb.DMatrix(predictors1, target[6000000:valid_size])"
   ]
  },
  {
   "cell_type": "code",
   "execution_count": 14,
   "metadata": {},
   "outputs": [
    {
     "name": "stdout",
     "output_type": "stream",
     "text": [
      "[0]\ttrain-auc:0.721704\n",
      "[20]\ttrain-auc:0.742705\n",
      "[40]\ttrain-auc:0.749538\n",
      "[60]\ttrain-auc:0.753593\n",
      "[80]\ttrain-auc:0.756754\n",
      "[100]\ttrain-auc:0.758916\n",
      "[120]\ttrain-auc:0.760635\n",
      "[140]\ttrain-auc:0.762106\n",
      "[160]\ttrain-auc:0.763278\n",
      "[180]\ttrain-auc:0.76427\n",
      "[200]\ttrain-auc:0.765442\n",
      "[220]\ttrain-auc:0.766135\n",
      "[240]\ttrain-auc:0.767017\n",
      "[260]\ttrain-auc:0.767704\n",
      "[280]\ttrain-auc:0.768637\n"
     ]
    }
   ],
   "source": [
    "nrounds = 300\n",
    "watchlist = [(dtrain, 'train')]\n",
    "bst = xgb.train(params, dtrain, num_boost_round=nrounds, evals=watchlist, verbose_eval=20)"
   ]
  },
  {
   "cell_type": "code",
   "execution_count": 22,
   "metadata": {},
   "outputs": [
    {
     "data": {
      "text/plain": [
       "0.76924720080951736"
      ]
     },
     "execution_count": 22,
     "metadata": {},
     "output_type": "execute_result"
    }
   ],
   "source": [
    "pred=bst.predict(dvalid)\n",
    "from sklearn.metrics import roc_auc_score\n",
    "roc_auc_score(target[train_size+1:], pred)"
   ]
  },
  {
   "cell_type": "code",
   "execution_count": null,
   "metadata": {
    "collapsed": true
   },
   "outputs": [],
   "source": [
    "fpr, tpr, _ = roc_curve(target[train_size+1:], pred)\n",
    "roc_auc = auc(fpr, tpr)\n",
    "\n",
    "res.append(roc_auc)\n",
    "\n",
    "print np.mean(roc_auc)"
   ]
  },
  {
   "cell_type": "code",
   "execution_count": 23,
   "metadata": {
    "collapsed": true
   },
   "outputs": [],
   "source": [
    "test_preds = bst.predict(dtest)\n",
    "submit = pd.DataFrame({'sample_id': test['sample_id'], 'is_listened': test_preds})\n",
    "submit.to_csv(\"DSG_xgb_50_300.csv\", index=False)"
   ]
  },
  {
   "cell_type": "code",
   "execution_count": 52,
   "metadata": {
    "collapsed": true
   },
   "outputs": [],
   "source": [
    "train_preds = bst.predict(dtrain)\n",
    "train_preds1 = bst.predict(dtrain1)"
   ]
  },
  {
   "cell_type": "code",
   "execution_count": 53,
   "metadata": {},
   "outputs": [
    {
     "data": {
      "text/plain": [
       "1570688"
      ]
     },
     "execution_count": 53,
     "metadata": {},
     "output_type": "execute_result"
    }
   ],
   "source": [
    "len(train_preds1)"
   ]
  },
  {
   "cell_type": "code",
   "execution_count": 57,
   "metadata": {
    "collapsed": true
   },
   "outputs": [],
   "source": [
    "#submit = pd.DataFrame({ 'is_listened': train_preds})\n",
    "#submit1 = pd.DataFrame({ is_listened': train_preds1})\n",
    "sub = pd.DataFrame(train_preds, columns=['xgb_50_300'])\n",
    "sub1 = pd.DataFrame(train_preds1, columns=['xgb_50_300'])"
   ]
  },
  {
   "cell_type": "code",
   "execution_count": 58,
   "metadata": {
    "collapsed": true
   },
   "outputs": [],
   "source": [
    "sub=pd.concat([sub,sub1],axis=0)"
   ]
  },
  {
   "cell_type": "code",
   "execution_count": 59,
   "metadata": {},
   "outputs": [
    {
     "data": {
      "text/plain": [
       "7570688"
      ]
     },
     "execution_count": 59,
     "metadata": {},
     "output_type": "execute_result"
    }
   ],
   "source": [
    "len(sub)"
   ]
  },
  {
   "cell_type": "code",
   "execution_count": 60,
   "metadata": {
    "collapsed": true
   },
   "outputs": [],
   "source": [
    "sub.to_csv(\"xgb_50_300_train.csv\", index=False)"
   ]
  },
  {
   "cell_type": "code",
   "execution_count": 26,
   "metadata": {},
   "outputs": [
    {
     "data": {
      "text/plain": [
       "array([ 0.48920366,  0.56624347,  0.43722993, ...,  0.82246929,\n",
       "        0.69349277,  0.82484359], dtype=float32)"
      ]
     },
     "execution_count": 26,
     "metadata": {},
     "output_type": "execute_result"
    }
   ],
   "source": [
    "train_preds"
   ]
  },
  {
   "cell_type": "code",
   "execution_count": 73,
   "metadata": {},
   "outputs": [
    {
     "name": "stdout",
     "output_type": "stream",
     "text": [
      "Loaded model from disk\n"
     ]
    }
   ],
   "source": [
    "# load json and create model\n",
    "from keras.models import model_from_json\n",
    "json_file = open('Keras_21054.json', 'r')\n",
    "loaded_model_json = json_file.read()\n",
    "json_file.close()\n",
    "loaded_model = model_from_json(loaded_model_json)\n",
    "# load weights into new model\n",
    "loaded_model.load_weights(\"Keras_21054.h5\")\n",
    "print(\"Loaded model from disk\")"
   ]
  },
  {
   "cell_type": "code",
   "execution_count": null,
   "metadata": {
    "collapsed": true
   },
   "outputs": [],
   "source": [
    "b_tr = loaded_model.predict_proba(predictors, verbose=0)[:,1]\n",
    "b_tr1 = loaded_model.predict_proba(predictors1, verbose=0)[:,1]"
   ]
  }
 ],
 "metadata": {
  "kernelspec": {
   "display_name": "Python 3",
   "language": "python",
   "name": "python3"
  },
  "language_info": {
   "codemirror_mode": {
    "name": "ipython",
    "version": 3
   },
   "file_extension": ".py",
   "mimetype": "text/x-python",
   "name": "python",
   "nbconvert_exporter": "python",
   "pygments_lexer": "ipython3",
   "version": "3.4.3"
  }
 },
 "nbformat": 4,
 "nbformat_minor": 2
}
